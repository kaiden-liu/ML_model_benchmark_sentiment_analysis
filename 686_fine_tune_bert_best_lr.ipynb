{
  "metadata": {
    "colab": {
      "provenance": [],
      "machine_shape": "hm"
    },
    "kernelspec": {
      "name": "python3",
      "display_name": "Python 3",
      "language": "python"
    },
    "language_info": {
      "name": "python",
      "version": "3.7.12",
      "mimetype": "text/x-python",
      "codemirror_mode": {
        "name": "ipython",
        "version": 3
      },
      "pygments_lexer": "ipython3",
      "nbconvert_exporter": "python",
      "file_extension": ".py"
    },
    "accelerator": "GPU",
    "gpuClass": "premium",
    "widgets": {
      "application/vnd.jupyter.widget-state+json": {
        "62e9e1670c404ff98040b8d1e4e7083e": {
          "model_module": "@jupyter-widgets/controls",
          "model_name": "HBoxModel",
          "model_module_version": "1.5.0",
          "state": {
            "_dom_classes": [],
            "_model_module": "@jupyter-widgets/controls",
            "_model_module_version": "1.5.0",
            "_model_name": "HBoxModel",
            "_view_count": null,
            "_view_module": "@jupyter-widgets/controls",
            "_view_module_version": "1.5.0",
            "_view_name": "HBoxView",
            "box_style": "",
            "children": [
              "IPY_MODEL_0a20fbde26fa418da1f12e686357696f",
              "IPY_MODEL_b9ddedbcfc504bff95b70a4dc8d112b7",
              "IPY_MODEL_3d950ffc17e94f959d580c8366bb46ca"
            ],
            "layout": "IPY_MODEL_2c30db77fe284a38a2dcda7d29f9a513"
          }
        },
        "0a20fbde26fa418da1f12e686357696f": {
          "model_module": "@jupyter-widgets/controls",
          "model_name": "HTMLModel",
          "model_module_version": "1.5.0",
          "state": {
            "_dom_classes": [],
            "_model_module": "@jupyter-widgets/controls",
            "_model_module_version": "1.5.0",
            "_model_name": "HTMLModel",
            "_view_count": null,
            "_view_module": "@jupyter-widgets/controls",
            "_view_module_version": "1.5.0",
            "_view_name": "HTMLView",
            "description": "",
            "description_tooltip": null,
            "layout": "IPY_MODEL_c17b2c2ad9784f199f75095768857fa9",
            "placeholder": "​",
            "style": "IPY_MODEL_957ebe5e311c48d78d7b8247ba380acd",
            "value": "100%"
          }
        },
        "b9ddedbcfc504bff95b70a4dc8d112b7": {
          "model_module": "@jupyter-widgets/controls",
          "model_name": "FloatProgressModel",
          "model_module_version": "1.5.0",
          "state": {
            "_dom_classes": [],
            "_model_module": "@jupyter-widgets/controls",
            "_model_module_version": "1.5.0",
            "_model_name": "FloatProgressModel",
            "_view_count": null,
            "_view_module": "@jupyter-widgets/controls",
            "_view_module_version": "1.5.0",
            "_view_name": "ProgressView",
            "bar_style": "success",
            "description": "",
            "description_tooltip": null,
            "layout": "IPY_MODEL_24bbfc68576045fea1986ee97de6ef65",
            "max": 1,
            "min": 0,
            "orientation": "horizontal",
            "style": "IPY_MODEL_29236b6575b8413ca07581025851ce1d",
            "value": 1
          }
        },
        "3d950ffc17e94f959d580c8366bb46ca": {
          "model_module": "@jupyter-widgets/controls",
          "model_name": "HTMLModel",
          "model_module_version": "1.5.0",
          "state": {
            "_dom_classes": [],
            "_model_module": "@jupyter-widgets/controls",
            "_model_module_version": "1.5.0",
            "_model_name": "HTMLModel",
            "_view_count": null,
            "_view_module": "@jupyter-widgets/controls",
            "_view_module_version": "1.5.0",
            "_view_name": "HTMLView",
            "description": "",
            "description_tooltip": null,
            "layout": "IPY_MODEL_b65b9d3ba8154d12808d77fceda122c1",
            "placeholder": "​",
            "style": "IPY_MODEL_104c58b345644c2fb375b79e1b121800",
            "value": " 1/1 [00:51&lt;00:00, 51.31s/it]"
          }
        },
        "2c30db77fe284a38a2dcda7d29f9a513": {
          "model_module": "@jupyter-widgets/base",
          "model_name": "LayoutModel",
          "model_module_version": "1.2.0",
          "state": {
            "_model_module": "@jupyter-widgets/base",
            "_model_module_version": "1.2.0",
            "_model_name": "LayoutModel",
            "_view_count": null,
            "_view_module": "@jupyter-widgets/base",
            "_view_module_version": "1.2.0",
            "_view_name": "LayoutView",
            "align_content": null,
            "align_items": null,
            "align_self": null,
            "border": null,
            "bottom": null,
            "display": null,
            "flex": null,
            "flex_flow": null,
            "grid_area": null,
            "grid_auto_columns": null,
            "grid_auto_flow": null,
            "grid_auto_rows": null,
            "grid_column": null,
            "grid_gap": null,
            "grid_row": null,
            "grid_template_areas": null,
            "grid_template_columns": null,
            "grid_template_rows": null,
            "height": null,
            "justify_content": null,
            "justify_items": null,
            "left": null,
            "margin": null,
            "max_height": null,
            "max_width": null,
            "min_height": null,
            "min_width": null,
            "object_fit": null,
            "object_position": null,
            "order": null,
            "overflow": null,
            "overflow_x": null,
            "overflow_y": null,
            "padding": null,
            "right": null,
            "top": null,
            "visibility": null,
            "width": null
          }
        },
        "c17b2c2ad9784f199f75095768857fa9": {
          "model_module": "@jupyter-widgets/base",
          "model_name": "LayoutModel",
          "model_module_version": "1.2.0",
          "state": {
            "_model_module": "@jupyter-widgets/base",
            "_model_module_version": "1.2.0",
            "_model_name": "LayoutModel",
            "_view_count": null,
            "_view_module": "@jupyter-widgets/base",
            "_view_module_version": "1.2.0",
            "_view_name": "LayoutView",
            "align_content": null,
            "align_items": null,
            "align_self": null,
            "border": null,
            "bottom": null,
            "display": null,
            "flex": null,
            "flex_flow": null,
            "grid_area": null,
            "grid_auto_columns": null,
            "grid_auto_flow": null,
            "grid_auto_rows": null,
            "grid_column": null,
            "grid_gap": null,
            "grid_row": null,
            "grid_template_areas": null,
            "grid_template_columns": null,
            "grid_template_rows": null,
            "height": null,
            "justify_content": null,
            "justify_items": null,
            "left": null,
            "margin": null,
            "max_height": null,
            "max_width": null,
            "min_height": null,
            "min_width": null,
            "object_fit": null,
            "object_position": null,
            "order": null,
            "overflow": null,
            "overflow_x": null,
            "overflow_y": null,
            "padding": null,
            "right": null,
            "top": null,
            "visibility": null,
            "width": null
          }
        },
        "957ebe5e311c48d78d7b8247ba380acd": {
          "model_module": "@jupyter-widgets/controls",
          "model_name": "DescriptionStyleModel",
          "model_module_version": "1.5.0",
          "state": {
            "_model_module": "@jupyter-widgets/controls",
            "_model_module_version": "1.5.0",
            "_model_name": "DescriptionStyleModel",
            "_view_count": null,
            "_view_module": "@jupyter-widgets/base",
            "_view_module_version": "1.2.0",
            "_view_name": "StyleView",
            "description_width": ""
          }
        },
        "24bbfc68576045fea1986ee97de6ef65": {
          "model_module": "@jupyter-widgets/base",
          "model_name": "LayoutModel",
          "model_module_version": "1.2.0",
          "state": {
            "_model_module": "@jupyter-widgets/base",
            "_model_module_version": "1.2.0",
            "_model_name": "LayoutModel",
            "_view_count": null,
            "_view_module": "@jupyter-widgets/base",
            "_view_module_version": "1.2.0",
            "_view_name": "LayoutView",
            "align_content": null,
            "align_items": null,
            "align_self": null,
            "border": null,
            "bottom": null,
            "display": null,
            "flex": null,
            "flex_flow": null,
            "grid_area": null,
            "grid_auto_columns": null,
            "grid_auto_flow": null,
            "grid_auto_rows": null,
            "grid_column": null,
            "grid_gap": null,
            "grid_row": null,
            "grid_template_areas": null,
            "grid_template_columns": null,
            "grid_template_rows": null,
            "height": null,
            "justify_content": null,
            "justify_items": null,
            "left": null,
            "margin": null,
            "max_height": null,
            "max_width": null,
            "min_height": null,
            "min_width": null,
            "object_fit": null,
            "object_position": null,
            "order": null,
            "overflow": null,
            "overflow_x": null,
            "overflow_y": null,
            "padding": null,
            "right": null,
            "top": null,
            "visibility": null,
            "width": null
          }
        },
        "29236b6575b8413ca07581025851ce1d": {
          "model_module": "@jupyter-widgets/controls",
          "model_name": "ProgressStyleModel",
          "model_module_version": "1.5.0",
          "state": {
            "_model_module": "@jupyter-widgets/controls",
            "_model_module_version": "1.5.0",
            "_model_name": "ProgressStyleModel",
            "_view_count": null,
            "_view_module": "@jupyter-widgets/base",
            "_view_module_version": "1.2.0",
            "_view_name": "StyleView",
            "bar_color": null,
            "description_width": ""
          }
        },
        "b65b9d3ba8154d12808d77fceda122c1": {
          "model_module": "@jupyter-widgets/base",
          "model_name": "LayoutModel",
          "model_module_version": "1.2.0",
          "state": {
            "_model_module": "@jupyter-widgets/base",
            "_model_module_version": "1.2.0",
            "_model_name": "LayoutModel",
            "_view_count": null,
            "_view_module": "@jupyter-widgets/base",
            "_view_module_version": "1.2.0",
            "_view_name": "LayoutView",
            "align_content": null,
            "align_items": null,
            "align_self": null,
            "border": null,
            "bottom": null,
            "display": null,
            "flex": null,
            "flex_flow": null,
            "grid_area": null,
            "grid_auto_columns": null,
            "grid_auto_flow": null,
            "grid_auto_rows": null,
            "grid_column": null,
            "grid_gap": null,
            "grid_row": null,
            "grid_template_areas": null,
            "grid_template_columns": null,
            "grid_template_rows": null,
            "height": null,
            "justify_content": null,
            "justify_items": null,
            "left": null,
            "margin": null,
            "max_height": null,
            "max_width": null,
            "min_height": null,
            "min_width": null,
            "object_fit": null,
            "object_position": null,
            "order": null,
            "overflow": null,
            "overflow_x": null,
            "overflow_y": null,
            "padding": null,
            "right": null,
            "top": null,
            "visibility": null,
            "width": null
          }
        },
        "104c58b345644c2fb375b79e1b121800": {
          "model_module": "@jupyter-widgets/controls",
          "model_name": "DescriptionStyleModel",
          "model_module_version": "1.5.0",
          "state": {
            "_model_module": "@jupyter-widgets/controls",
            "_model_module_version": "1.5.0",
            "_model_name": "DescriptionStyleModel",
            "_view_count": null,
            "_view_module": "@jupyter-widgets/base",
            "_view_module_version": "1.2.0",
            "_view_name": "StyleView",
            "description_width": ""
          }
        },
        "55d6096581304f09a2a6350340938c04": {
          "model_module": "@jupyter-widgets/controls",
          "model_name": "HBoxModel",
          "model_module_version": "1.5.0",
          "state": {
            "_dom_classes": [],
            "_model_module": "@jupyter-widgets/controls",
            "_model_module_version": "1.5.0",
            "_model_name": "HBoxModel",
            "_view_count": null,
            "_view_module": "@jupyter-widgets/controls",
            "_view_module_version": "1.5.0",
            "_view_name": "HBoxView",
            "box_style": "",
            "children": [
              "IPY_MODEL_a08bbe7f00134d9994e12037c671e6b0",
              "IPY_MODEL_90908c01c91949809efc0a4501954080",
              "IPY_MODEL_c5665ca1bed443f1aaf90ce640f23d15"
            ],
            "layout": "IPY_MODEL_ca07e0a878fd4f82a8f2e5c9b6fa3777"
          }
        },
        "a08bbe7f00134d9994e12037c671e6b0": {
          "model_module": "@jupyter-widgets/controls",
          "model_name": "HTMLModel",
          "model_module_version": "1.5.0",
          "state": {
            "_dom_classes": [],
            "_model_module": "@jupyter-widgets/controls",
            "_model_module_version": "1.5.0",
            "_model_name": "HTMLModel",
            "_view_count": null,
            "_view_module": "@jupyter-widgets/controls",
            "_view_module_version": "1.5.0",
            "_view_name": "HTMLView",
            "description": "",
            "description_tooltip": null,
            "layout": "IPY_MODEL_4ccf7473d5814dd0891d0f3362bab23c",
            "placeholder": "​",
            "style": "IPY_MODEL_2d26e55943324053be8eb924e1b68fc0",
            "value": "Epoch: 1: 100%"
          }
        },
        "90908c01c91949809efc0a4501954080": {
          "model_module": "@jupyter-widgets/controls",
          "model_name": "FloatProgressModel",
          "model_module_version": "1.5.0",
          "state": {
            "_dom_classes": [],
            "_model_module": "@jupyter-widgets/controls",
            "_model_module_version": "1.5.0",
            "_model_name": "FloatProgressModel",
            "_view_count": null,
            "_view_module": "@jupyter-widgets/controls",
            "_view_module_version": "1.5.0",
            "_view_name": "ProgressView",
            "bar_style": "",
            "description": "",
            "description_tooltip": null,
            "layout": "IPY_MODEL_897b2f18870e4a91b0739bcfb999f1e8",
            "max": 250,
            "min": 0,
            "orientation": "horizontal",
            "style": "IPY_MODEL_d5889cfe90504b9086e015306d8970ac",
            "value": 250
          }
        },
        "c5665ca1bed443f1aaf90ce640f23d15": {
          "model_module": "@jupyter-widgets/controls",
          "model_name": "HTMLModel",
          "model_module_version": "1.5.0",
          "state": {
            "_dom_classes": [],
            "_model_module": "@jupyter-widgets/controls",
            "_model_module_version": "1.5.0",
            "_model_name": "HTMLModel",
            "_view_count": null,
            "_view_module": "@jupyter-widgets/controls",
            "_view_module_version": "1.5.0",
            "_view_name": "HTMLView",
            "description": "",
            "description_tooltip": null,
            "layout": "IPY_MODEL_1fc43b0f10fc40d49b9bd4042d259b65",
            "placeholder": "​",
            "style": "IPY_MODEL_d590e02ef43b4ec4a1982821eefa4496",
            "value": " 250/250 [00:47&lt;00:00,  5.24it/s, training_loss=0.090]"
          }
        },
        "ca07e0a878fd4f82a8f2e5c9b6fa3777": {
          "model_module": "@jupyter-widgets/base",
          "model_name": "LayoutModel",
          "model_module_version": "1.2.0",
          "state": {
            "_model_module": "@jupyter-widgets/base",
            "_model_module_version": "1.2.0",
            "_model_name": "LayoutModel",
            "_view_count": null,
            "_view_module": "@jupyter-widgets/base",
            "_view_module_version": "1.2.0",
            "_view_name": "LayoutView",
            "align_content": null,
            "align_items": null,
            "align_self": null,
            "border": null,
            "bottom": null,
            "display": null,
            "flex": null,
            "flex_flow": null,
            "grid_area": null,
            "grid_auto_columns": null,
            "grid_auto_flow": null,
            "grid_auto_rows": null,
            "grid_column": null,
            "grid_gap": null,
            "grid_row": null,
            "grid_template_areas": null,
            "grid_template_columns": null,
            "grid_template_rows": null,
            "height": null,
            "justify_content": null,
            "justify_items": null,
            "left": null,
            "margin": null,
            "max_height": null,
            "max_width": null,
            "min_height": null,
            "min_width": null,
            "object_fit": null,
            "object_position": null,
            "order": null,
            "overflow": null,
            "overflow_x": null,
            "overflow_y": null,
            "padding": null,
            "right": null,
            "top": null,
            "visibility": "hidden",
            "width": null
          }
        },
        "4ccf7473d5814dd0891d0f3362bab23c": {
          "model_module": "@jupyter-widgets/base",
          "model_name": "LayoutModel",
          "model_module_version": "1.2.0",
          "state": {
            "_model_module": "@jupyter-widgets/base",
            "_model_module_version": "1.2.0",
            "_model_name": "LayoutModel",
            "_view_count": null,
            "_view_module": "@jupyter-widgets/base",
            "_view_module_version": "1.2.0",
            "_view_name": "LayoutView",
            "align_content": null,
            "align_items": null,
            "align_self": null,
            "border": null,
            "bottom": null,
            "display": null,
            "flex": null,
            "flex_flow": null,
            "grid_area": null,
            "grid_auto_columns": null,
            "grid_auto_flow": null,
            "grid_auto_rows": null,
            "grid_column": null,
            "grid_gap": null,
            "grid_row": null,
            "grid_template_areas": null,
            "grid_template_columns": null,
            "grid_template_rows": null,
            "height": null,
            "justify_content": null,
            "justify_items": null,
            "left": null,
            "margin": null,
            "max_height": null,
            "max_width": null,
            "min_height": null,
            "min_width": null,
            "object_fit": null,
            "object_position": null,
            "order": null,
            "overflow": null,
            "overflow_x": null,
            "overflow_y": null,
            "padding": null,
            "right": null,
            "top": null,
            "visibility": null,
            "width": null
          }
        },
        "2d26e55943324053be8eb924e1b68fc0": {
          "model_module": "@jupyter-widgets/controls",
          "model_name": "DescriptionStyleModel",
          "model_module_version": "1.5.0",
          "state": {
            "_model_module": "@jupyter-widgets/controls",
            "_model_module_version": "1.5.0",
            "_model_name": "DescriptionStyleModel",
            "_view_count": null,
            "_view_module": "@jupyter-widgets/base",
            "_view_module_version": "1.2.0",
            "_view_name": "StyleView",
            "description_width": ""
          }
        },
        "897b2f18870e4a91b0739bcfb999f1e8": {
          "model_module": "@jupyter-widgets/base",
          "model_name": "LayoutModel",
          "model_module_version": "1.2.0",
          "state": {
            "_model_module": "@jupyter-widgets/base",
            "_model_module_version": "1.2.0",
            "_model_name": "LayoutModel",
            "_view_count": null,
            "_view_module": "@jupyter-widgets/base",
            "_view_module_version": "1.2.0",
            "_view_name": "LayoutView",
            "align_content": null,
            "align_items": null,
            "align_self": null,
            "border": null,
            "bottom": null,
            "display": null,
            "flex": null,
            "flex_flow": null,
            "grid_area": null,
            "grid_auto_columns": null,
            "grid_auto_flow": null,
            "grid_auto_rows": null,
            "grid_column": null,
            "grid_gap": null,
            "grid_row": null,
            "grid_template_areas": null,
            "grid_template_columns": null,
            "grid_template_rows": null,
            "height": null,
            "justify_content": null,
            "justify_items": null,
            "left": null,
            "margin": null,
            "max_height": null,
            "max_width": null,
            "min_height": null,
            "min_width": null,
            "object_fit": null,
            "object_position": null,
            "order": null,
            "overflow": null,
            "overflow_x": null,
            "overflow_y": null,
            "padding": null,
            "right": null,
            "top": null,
            "visibility": null,
            "width": null
          }
        },
        "d5889cfe90504b9086e015306d8970ac": {
          "model_module": "@jupyter-widgets/controls",
          "model_name": "ProgressStyleModel",
          "model_module_version": "1.5.0",
          "state": {
            "_model_module": "@jupyter-widgets/controls",
            "_model_module_version": "1.5.0",
            "_model_name": "ProgressStyleModel",
            "_view_count": null,
            "_view_module": "@jupyter-widgets/base",
            "_view_module_version": "1.2.0",
            "_view_name": "StyleView",
            "bar_color": null,
            "description_width": ""
          }
        },
        "1fc43b0f10fc40d49b9bd4042d259b65": {
          "model_module": "@jupyter-widgets/base",
          "model_name": "LayoutModel",
          "model_module_version": "1.2.0",
          "state": {
            "_model_module": "@jupyter-widgets/base",
            "_model_module_version": "1.2.0",
            "_model_name": "LayoutModel",
            "_view_count": null,
            "_view_module": "@jupyter-widgets/base",
            "_view_module_version": "1.2.0",
            "_view_name": "LayoutView",
            "align_content": null,
            "align_items": null,
            "align_self": null,
            "border": null,
            "bottom": null,
            "display": null,
            "flex": null,
            "flex_flow": null,
            "grid_area": null,
            "grid_auto_columns": null,
            "grid_auto_flow": null,
            "grid_auto_rows": null,
            "grid_column": null,
            "grid_gap": null,
            "grid_row": null,
            "grid_template_areas": null,
            "grid_template_columns": null,
            "grid_template_rows": null,
            "height": null,
            "justify_content": null,
            "justify_items": null,
            "left": null,
            "margin": null,
            "max_height": null,
            "max_width": null,
            "min_height": null,
            "min_width": null,
            "object_fit": null,
            "object_position": null,
            "order": null,
            "overflow": null,
            "overflow_x": null,
            "overflow_y": null,
            "padding": null,
            "right": null,
            "top": null,
            "visibility": null,
            "width": null
          }
        },
        "d590e02ef43b4ec4a1982821eefa4496": {
          "model_module": "@jupyter-widgets/controls",
          "model_name": "DescriptionStyleModel",
          "model_module_version": "1.5.0",
          "state": {
            "_model_module": "@jupyter-widgets/controls",
            "_model_module_version": "1.5.0",
            "_model_name": "DescriptionStyleModel",
            "_view_count": null,
            "_view_module": "@jupyter-widgets/base",
            "_view_module_version": "1.2.0",
            "_view_name": "StyleView",
            "description_width": ""
          }
        },
        "5da0f7d61a554964b6308863b016206a": {
          "model_module": "@jupyter-widgets/controls",
          "model_name": "HBoxModel",
          "model_module_version": "1.5.0",
          "state": {
            "_dom_classes": [],
            "_model_module": "@jupyter-widgets/controls",
            "_model_module_version": "1.5.0",
            "_model_name": "HBoxModel",
            "_view_count": null,
            "_view_module": "@jupyter-widgets/controls",
            "_view_module_version": "1.5.0",
            "_view_name": "HBoxView",
            "box_style": "",
            "children": [
              "IPY_MODEL_bb5e9901738d453eb39f74a4c81a0acc",
              "IPY_MODEL_6b4f33f5f36d4b9e87d0c8a3f9b0c5ba",
              "IPY_MODEL_bdf26f64136446cc9a31639045835932"
            ],
            "layout": "IPY_MODEL_f783b5b98cc94975b263c6a5df6f5330"
          }
        },
        "bb5e9901738d453eb39f74a4c81a0acc": {
          "model_module": "@jupyter-widgets/controls",
          "model_name": "HTMLModel",
          "model_module_version": "1.5.0",
          "state": {
            "_dom_classes": [],
            "_model_module": "@jupyter-widgets/controls",
            "_model_module_version": "1.5.0",
            "_model_name": "HTMLModel",
            "_view_count": null,
            "_view_module": "@jupyter-widgets/controls",
            "_view_module_version": "1.5.0",
            "_view_name": "HTMLView",
            "description": "",
            "description_tooltip": null,
            "layout": "IPY_MODEL_ddb3d9a52a554f32b73434fd08e581f8",
            "placeholder": "​",
            "style": "IPY_MODEL_15a164a81e934c08914e55178d8c4feb",
            "value": "100%"
          }
        },
        "6b4f33f5f36d4b9e87d0c8a3f9b0c5ba": {
          "model_module": "@jupyter-widgets/controls",
          "model_name": "FloatProgressModel",
          "model_module_version": "1.5.0",
          "state": {
            "_dom_classes": [],
            "_model_module": "@jupyter-widgets/controls",
            "_model_module_version": "1.5.0",
            "_model_name": "FloatProgressModel",
            "_view_count": null,
            "_view_module": "@jupyter-widgets/controls",
            "_view_module_version": "1.5.0",
            "_view_name": "ProgressView",
            "bar_style": "success",
            "description": "",
            "description_tooltip": null,
            "layout": "IPY_MODEL_2d967a26a291465a9538339e03a24f60",
            "max": 32,
            "min": 0,
            "orientation": "horizontal",
            "style": "IPY_MODEL_162c2a55b03a4a03854da0c07b5c1d26",
            "value": 32
          }
        },
        "bdf26f64136446cc9a31639045835932": {
          "model_module": "@jupyter-widgets/controls",
          "model_name": "HTMLModel",
          "model_module_version": "1.5.0",
          "state": {
            "_dom_classes": [],
            "_model_module": "@jupyter-widgets/controls",
            "_model_module_version": "1.5.0",
            "_model_name": "HTMLModel",
            "_view_count": null,
            "_view_module": "@jupyter-widgets/controls",
            "_view_module_version": "1.5.0",
            "_view_name": "HTMLView",
            "description": "",
            "description_tooltip": null,
            "layout": "IPY_MODEL_8eea107fb03141a1a291afa5cd39efc8",
            "placeholder": "​",
            "style": "IPY_MODEL_cbd11dd7287b472dae123fb00cf6bafd",
            "value": " 32/32 [00:03&lt;00:00,  9.31it/s]"
          }
        },
        "f783b5b98cc94975b263c6a5df6f5330": {
          "model_module": "@jupyter-widgets/base",
          "model_name": "LayoutModel",
          "model_module_version": "1.2.0",
          "state": {
            "_model_module": "@jupyter-widgets/base",
            "_model_module_version": "1.2.0",
            "_model_name": "LayoutModel",
            "_view_count": null,
            "_view_module": "@jupyter-widgets/base",
            "_view_module_version": "1.2.0",
            "_view_name": "LayoutView",
            "align_content": null,
            "align_items": null,
            "align_self": null,
            "border": null,
            "bottom": null,
            "display": null,
            "flex": null,
            "flex_flow": null,
            "grid_area": null,
            "grid_auto_columns": null,
            "grid_auto_flow": null,
            "grid_auto_rows": null,
            "grid_column": null,
            "grid_gap": null,
            "grid_row": null,
            "grid_template_areas": null,
            "grid_template_columns": null,
            "grid_template_rows": null,
            "height": null,
            "justify_content": null,
            "justify_items": null,
            "left": null,
            "margin": null,
            "max_height": null,
            "max_width": null,
            "min_height": null,
            "min_width": null,
            "object_fit": null,
            "object_position": null,
            "order": null,
            "overflow": null,
            "overflow_x": null,
            "overflow_y": null,
            "padding": null,
            "right": null,
            "top": null,
            "visibility": null,
            "width": null
          }
        },
        "ddb3d9a52a554f32b73434fd08e581f8": {
          "model_module": "@jupyter-widgets/base",
          "model_name": "LayoutModel",
          "model_module_version": "1.2.0",
          "state": {
            "_model_module": "@jupyter-widgets/base",
            "_model_module_version": "1.2.0",
            "_model_name": "LayoutModel",
            "_view_count": null,
            "_view_module": "@jupyter-widgets/base",
            "_view_module_version": "1.2.0",
            "_view_name": "LayoutView",
            "align_content": null,
            "align_items": null,
            "align_self": null,
            "border": null,
            "bottom": null,
            "display": null,
            "flex": null,
            "flex_flow": null,
            "grid_area": null,
            "grid_auto_columns": null,
            "grid_auto_flow": null,
            "grid_auto_rows": null,
            "grid_column": null,
            "grid_gap": null,
            "grid_row": null,
            "grid_template_areas": null,
            "grid_template_columns": null,
            "grid_template_rows": null,
            "height": null,
            "justify_content": null,
            "justify_items": null,
            "left": null,
            "margin": null,
            "max_height": null,
            "max_width": null,
            "min_height": null,
            "min_width": null,
            "object_fit": null,
            "object_position": null,
            "order": null,
            "overflow": null,
            "overflow_x": null,
            "overflow_y": null,
            "padding": null,
            "right": null,
            "top": null,
            "visibility": null,
            "width": null
          }
        },
        "15a164a81e934c08914e55178d8c4feb": {
          "model_module": "@jupyter-widgets/controls",
          "model_name": "DescriptionStyleModel",
          "model_module_version": "1.5.0",
          "state": {
            "_model_module": "@jupyter-widgets/controls",
            "_model_module_version": "1.5.0",
            "_model_name": "DescriptionStyleModel",
            "_view_count": null,
            "_view_module": "@jupyter-widgets/base",
            "_view_module_version": "1.2.0",
            "_view_name": "StyleView",
            "description_width": ""
          }
        },
        "2d967a26a291465a9538339e03a24f60": {
          "model_module": "@jupyter-widgets/base",
          "model_name": "LayoutModel",
          "model_module_version": "1.2.0",
          "state": {
            "_model_module": "@jupyter-widgets/base",
            "_model_module_version": "1.2.0",
            "_model_name": "LayoutModel",
            "_view_count": null,
            "_view_module": "@jupyter-widgets/base",
            "_view_module_version": "1.2.0",
            "_view_name": "LayoutView",
            "align_content": null,
            "align_items": null,
            "align_self": null,
            "border": null,
            "bottom": null,
            "display": null,
            "flex": null,
            "flex_flow": null,
            "grid_area": null,
            "grid_auto_columns": null,
            "grid_auto_flow": null,
            "grid_auto_rows": null,
            "grid_column": null,
            "grid_gap": null,
            "grid_row": null,
            "grid_template_areas": null,
            "grid_template_columns": null,
            "grid_template_rows": null,
            "height": null,
            "justify_content": null,
            "justify_items": null,
            "left": null,
            "margin": null,
            "max_height": null,
            "max_width": null,
            "min_height": null,
            "min_width": null,
            "object_fit": null,
            "object_position": null,
            "order": null,
            "overflow": null,
            "overflow_x": null,
            "overflow_y": null,
            "padding": null,
            "right": null,
            "top": null,
            "visibility": null,
            "width": null
          }
        },
        "162c2a55b03a4a03854da0c07b5c1d26": {
          "model_module": "@jupyter-widgets/controls",
          "model_name": "ProgressStyleModel",
          "model_module_version": "1.5.0",
          "state": {
            "_model_module": "@jupyter-widgets/controls",
            "_model_module_version": "1.5.0",
            "_model_name": "ProgressStyleModel",
            "_view_count": null,
            "_view_module": "@jupyter-widgets/base",
            "_view_module_version": "1.2.0",
            "_view_name": "StyleView",
            "bar_color": null,
            "description_width": ""
          }
        },
        "8eea107fb03141a1a291afa5cd39efc8": {
          "model_module": "@jupyter-widgets/base",
          "model_name": "LayoutModel",
          "model_module_version": "1.2.0",
          "state": {
            "_model_module": "@jupyter-widgets/base",
            "_model_module_version": "1.2.0",
            "_model_name": "LayoutModel",
            "_view_count": null,
            "_view_module": "@jupyter-widgets/base",
            "_view_module_version": "1.2.0",
            "_view_name": "LayoutView",
            "align_content": null,
            "align_items": null,
            "align_self": null,
            "border": null,
            "bottom": null,
            "display": null,
            "flex": null,
            "flex_flow": null,
            "grid_area": null,
            "grid_auto_columns": null,
            "grid_auto_flow": null,
            "grid_auto_rows": null,
            "grid_column": null,
            "grid_gap": null,
            "grid_row": null,
            "grid_template_areas": null,
            "grid_template_columns": null,
            "grid_template_rows": null,
            "height": null,
            "justify_content": null,
            "justify_items": null,
            "left": null,
            "margin": null,
            "max_height": null,
            "max_width": null,
            "min_height": null,
            "min_width": null,
            "object_fit": null,
            "object_position": null,
            "order": null,
            "overflow": null,
            "overflow_x": null,
            "overflow_y": null,
            "padding": null,
            "right": null,
            "top": null,
            "visibility": null,
            "width": null
          }
        },
        "cbd11dd7287b472dae123fb00cf6bafd": {
          "model_module": "@jupyter-widgets/controls",
          "model_name": "DescriptionStyleModel",
          "model_module_version": "1.5.0",
          "state": {
            "_model_module": "@jupyter-widgets/controls",
            "_model_module_version": "1.5.0",
            "_model_name": "DescriptionStyleModel",
            "_view_count": null,
            "_view_module": "@jupyter-widgets/base",
            "_view_module_version": "1.2.0",
            "_view_name": "StyleView",
            "description_width": ""
          }
        },
        "d6dc3988930e4e0cb70cda5a8fdf0bd2": {
          "model_module": "@jupyter-widgets/controls",
          "model_name": "HBoxModel",
          "model_module_version": "1.5.0",
          "state": {
            "_dom_classes": [],
            "_model_module": "@jupyter-widgets/controls",
            "_model_module_version": "1.5.0",
            "_model_name": "HBoxModel",
            "_view_count": null,
            "_view_module": "@jupyter-widgets/controls",
            "_view_module_version": "1.5.0",
            "_view_name": "HBoxView",
            "box_style": "",
            "children": [
              "IPY_MODEL_cd53eaa9f87548a0a81b66926b96818e",
              "IPY_MODEL_53d2eb1874bf4e449b103f5080e526c5",
              "IPY_MODEL_b45b161496ad4c17bb73c9542679d8ca"
            ],
            "layout": "IPY_MODEL_d2e25b5f98c34fbd82779fcb00d37ec9"
          }
        },
        "cd53eaa9f87548a0a81b66926b96818e": {
          "model_module": "@jupyter-widgets/controls",
          "model_name": "HTMLModel",
          "model_module_version": "1.5.0",
          "state": {
            "_dom_classes": [],
            "_model_module": "@jupyter-widgets/controls",
            "_model_module_version": "1.5.0",
            "_model_name": "HTMLModel",
            "_view_count": null,
            "_view_module": "@jupyter-widgets/controls",
            "_view_module_version": "1.5.0",
            "_view_name": "HTMLView",
            "description": "",
            "description_tooltip": null,
            "layout": "IPY_MODEL_3a7d43fa030c485985eea8f089643492",
            "placeholder": "​",
            "style": "IPY_MODEL_2f9e4ab9669140719bd54c2a32e6a0ee",
            "value": "100%"
          }
        },
        "53d2eb1874bf4e449b103f5080e526c5": {
          "model_module": "@jupyter-widgets/controls",
          "model_name": "FloatProgressModel",
          "model_module_version": "1.5.0",
          "state": {
            "_dom_classes": [],
            "_model_module": "@jupyter-widgets/controls",
            "_model_module_version": "1.5.0",
            "_model_name": "FloatProgressModel",
            "_view_count": null,
            "_view_module": "@jupyter-widgets/controls",
            "_view_module_version": "1.5.0",
            "_view_name": "ProgressView",
            "bar_style": "success",
            "description": "",
            "description_tooltip": null,
            "layout": "IPY_MODEL_d9a5281cbdd5430fbb6bfcd93f4ca4e8",
            "max": 32,
            "min": 0,
            "orientation": "horizontal",
            "style": "IPY_MODEL_ebd718da63494321b211118bd903c2eb",
            "value": 32
          }
        },
        "b45b161496ad4c17bb73c9542679d8ca": {
          "model_module": "@jupyter-widgets/controls",
          "model_name": "HTMLModel",
          "model_module_version": "1.5.0",
          "state": {
            "_dom_classes": [],
            "_model_module": "@jupyter-widgets/controls",
            "_model_module_version": "1.5.0",
            "_model_name": "HTMLModel",
            "_view_count": null,
            "_view_module": "@jupyter-widgets/controls",
            "_view_module_version": "1.5.0",
            "_view_name": "HTMLView",
            "description": "",
            "description_tooltip": null,
            "layout": "IPY_MODEL_bd8d1c35549a4d279429ccefc021dc3f",
            "placeholder": "​",
            "style": "IPY_MODEL_98006bc814ac4165a7d1edffb7d9da48",
            "value": " 32/32 [00:03&lt;00:00,  9.27it/s]"
          }
        },
        "d2e25b5f98c34fbd82779fcb00d37ec9": {
          "model_module": "@jupyter-widgets/base",
          "model_name": "LayoutModel",
          "model_module_version": "1.2.0",
          "state": {
            "_model_module": "@jupyter-widgets/base",
            "_model_module_version": "1.2.0",
            "_model_name": "LayoutModel",
            "_view_count": null,
            "_view_module": "@jupyter-widgets/base",
            "_view_module_version": "1.2.0",
            "_view_name": "LayoutView",
            "align_content": null,
            "align_items": null,
            "align_self": null,
            "border": null,
            "bottom": null,
            "display": null,
            "flex": null,
            "flex_flow": null,
            "grid_area": null,
            "grid_auto_columns": null,
            "grid_auto_flow": null,
            "grid_auto_rows": null,
            "grid_column": null,
            "grid_gap": null,
            "grid_row": null,
            "grid_template_areas": null,
            "grid_template_columns": null,
            "grid_template_rows": null,
            "height": null,
            "justify_content": null,
            "justify_items": null,
            "left": null,
            "margin": null,
            "max_height": null,
            "max_width": null,
            "min_height": null,
            "min_width": null,
            "object_fit": null,
            "object_position": null,
            "order": null,
            "overflow": null,
            "overflow_x": null,
            "overflow_y": null,
            "padding": null,
            "right": null,
            "top": null,
            "visibility": null,
            "width": null
          }
        },
        "3a7d43fa030c485985eea8f089643492": {
          "model_module": "@jupyter-widgets/base",
          "model_name": "LayoutModel",
          "model_module_version": "1.2.0",
          "state": {
            "_model_module": "@jupyter-widgets/base",
            "_model_module_version": "1.2.0",
            "_model_name": "LayoutModel",
            "_view_count": null,
            "_view_module": "@jupyter-widgets/base",
            "_view_module_version": "1.2.0",
            "_view_name": "LayoutView",
            "align_content": null,
            "align_items": null,
            "align_self": null,
            "border": null,
            "bottom": null,
            "display": null,
            "flex": null,
            "flex_flow": null,
            "grid_area": null,
            "grid_auto_columns": null,
            "grid_auto_flow": null,
            "grid_auto_rows": null,
            "grid_column": null,
            "grid_gap": null,
            "grid_row": null,
            "grid_template_areas": null,
            "grid_template_columns": null,
            "grid_template_rows": null,
            "height": null,
            "justify_content": null,
            "justify_items": null,
            "left": null,
            "margin": null,
            "max_height": null,
            "max_width": null,
            "min_height": null,
            "min_width": null,
            "object_fit": null,
            "object_position": null,
            "order": null,
            "overflow": null,
            "overflow_x": null,
            "overflow_y": null,
            "padding": null,
            "right": null,
            "top": null,
            "visibility": null,
            "width": null
          }
        },
        "2f9e4ab9669140719bd54c2a32e6a0ee": {
          "model_module": "@jupyter-widgets/controls",
          "model_name": "DescriptionStyleModel",
          "model_module_version": "1.5.0",
          "state": {
            "_model_module": "@jupyter-widgets/controls",
            "_model_module_version": "1.5.0",
            "_model_name": "DescriptionStyleModel",
            "_view_count": null,
            "_view_module": "@jupyter-widgets/base",
            "_view_module_version": "1.2.0",
            "_view_name": "StyleView",
            "description_width": ""
          }
        },
        "d9a5281cbdd5430fbb6bfcd93f4ca4e8": {
          "model_module": "@jupyter-widgets/base",
          "model_name": "LayoutModel",
          "model_module_version": "1.2.0",
          "state": {
            "_model_module": "@jupyter-widgets/base",
            "_model_module_version": "1.2.0",
            "_model_name": "LayoutModel",
            "_view_count": null,
            "_view_module": "@jupyter-widgets/base",
            "_view_module_version": "1.2.0",
            "_view_name": "LayoutView",
            "align_content": null,
            "align_items": null,
            "align_self": null,
            "border": null,
            "bottom": null,
            "display": null,
            "flex": null,
            "flex_flow": null,
            "grid_area": null,
            "grid_auto_columns": null,
            "grid_auto_flow": null,
            "grid_auto_rows": null,
            "grid_column": null,
            "grid_gap": null,
            "grid_row": null,
            "grid_template_areas": null,
            "grid_template_columns": null,
            "grid_template_rows": null,
            "height": null,
            "justify_content": null,
            "justify_items": null,
            "left": null,
            "margin": null,
            "max_height": null,
            "max_width": null,
            "min_height": null,
            "min_width": null,
            "object_fit": null,
            "object_position": null,
            "order": null,
            "overflow": null,
            "overflow_x": null,
            "overflow_y": null,
            "padding": null,
            "right": null,
            "top": null,
            "visibility": null,
            "width": null
          }
        },
        "ebd718da63494321b211118bd903c2eb": {
          "model_module": "@jupyter-widgets/controls",
          "model_name": "ProgressStyleModel",
          "model_module_version": "1.5.0",
          "state": {
            "_model_module": "@jupyter-widgets/controls",
            "_model_module_version": "1.5.0",
            "_model_name": "ProgressStyleModel",
            "_view_count": null,
            "_view_module": "@jupyter-widgets/base",
            "_view_module_version": "1.2.0",
            "_view_name": "StyleView",
            "bar_color": null,
            "description_width": ""
          }
        },
        "bd8d1c35549a4d279429ccefc021dc3f": {
          "model_module": "@jupyter-widgets/base",
          "model_name": "LayoutModel",
          "model_module_version": "1.2.0",
          "state": {
            "_model_module": "@jupyter-widgets/base",
            "_model_module_version": "1.2.0",
            "_model_name": "LayoutModel",
            "_view_count": null,
            "_view_module": "@jupyter-widgets/base",
            "_view_module_version": "1.2.0",
            "_view_name": "LayoutView",
            "align_content": null,
            "align_items": null,
            "align_self": null,
            "border": null,
            "bottom": null,
            "display": null,
            "flex": null,
            "flex_flow": null,
            "grid_area": null,
            "grid_auto_columns": null,
            "grid_auto_flow": null,
            "grid_auto_rows": null,
            "grid_column": null,
            "grid_gap": null,
            "grid_row": null,
            "grid_template_areas": null,
            "grid_template_columns": null,
            "grid_template_rows": null,
            "height": null,
            "justify_content": null,
            "justify_items": null,
            "left": null,
            "margin": null,
            "max_height": null,
            "max_width": null,
            "min_height": null,
            "min_width": null,
            "object_fit": null,
            "object_position": null,
            "order": null,
            "overflow": null,
            "overflow_x": null,
            "overflow_y": null,
            "padding": null,
            "right": null,
            "top": null,
            "visibility": null,
            "width": null
          }
        },
        "98006bc814ac4165a7d1edffb7d9da48": {
          "model_module": "@jupyter-widgets/controls",
          "model_name": "DescriptionStyleModel",
          "model_module_version": "1.5.0",
          "state": {
            "_model_module": "@jupyter-widgets/controls",
            "_model_module_version": "1.5.0",
            "_model_name": "DescriptionStyleModel",
            "_view_count": null,
            "_view_module": "@jupyter-widgets/base",
            "_view_module_version": "1.2.0",
            "_view_name": "StyleView",
            "description_width": ""
          }
        }
      }
    }
  },
  "nbformat_minor": 0,
  "nbformat": 4,
  "cells": [
    {
      "cell_type": "code",
      "source": [
        "import numpy as np \n",
        "import pandas as pd \n",
        "import torch\n",
        "from tqdm.notebook import tqdm\n",
        "import random"
      ],
      "metadata": {
        "id": "yImCpjzU7LB1",
        "execution": {
          "iopub.status.busy": "2022-12-02T20:01:03.281647Z",
          "iopub.execute_input": "2022-12-02T20:01:03.282795Z",
          "iopub.status.idle": "2022-12-02T20:01:03.288448Z",
          "shell.execute_reply.started": "2022-12-02T20:01:03.282746Z",
          "shell.execute_reply": "2022-12-02T20:01:03.287193Z"
        },
        "trusted": true
      },
      "execution_count": 98,
      "outputs": []
    },
    {
      "cell_type": "markdown",
      "source": [
        "initial settings"
      ],
      "metadata": {
        "id": "qbGJCQJ1j2Xt"
      }
    },
    {
      "cell_type": "code",
      "source": [
        "n_sample = 5000\n",
        "n_epoch = 1\n",
        "lr_rate = 1e-4 \n",
        "#lr_rate = 5e-5 \n",
        "#lr_rate = 1e-5 \n",
        "#lr_rate = 5e-6\n",
        "#lr_rate = 1e-6\n",
        "eps = 1e-8"
      ],
      "metadata": {
        "execution": {
          "iopub.status.busy": "2022-12-02T20:01:03.292447Z",
          "iopub.execute_input": "2022-12-02T20:01:03.292788Z",
          "iopub.status.idle": "2022-12-02T20:01:03.299896Z",
          "shell.execute_reply.started": "2022-12-02T20:01:03.292758Z",
          "shell.execute_reply": "2022-12-02T20:01:03.299017Z"
        },
        "trusted": true,
        "id": "q0JAK5Hjj2YJ"
      },
      "execution_count": 99,
      "outputs": []
    },
    {
      "cell_type": "markdown",
      "source": [
        "Read Data"
      ],
      "metadata": {
        "id": "xc_fjF1m7okg"
      }
    },
    {
      "cell_type": "code",
      "source": [
        "# url = 'https://git.uwaterloo.ca/t4shan/cs-686-sentiment-analysis/-/raw/main/smileannotationsfinal.csv'\n",
        "# columns = ['Id','Text','Category']\n",
        "# df = pd.read_csv(url, names=columns)\n",
        "\n",
        "url = 'https://git.uwaterloo.ca/t4shan/cs-686-sentiment-analysis/-/raw/main/training.1600000.processed.noemoticon.csv'\n",
        "columns = [\"target\", \"ids\", \"date\", \"flag\", \"user\", \"Text\"]\n",
        "df = pd.read_csv(url, encoding = \"ISO-8859-1\", names=columns)"
      ],
      "metadata": {
        "id": "HFdIAjfd7EV-",
        "execution": {
          "iopub.status.busy": "2022-12-02T20:01:03.302015Z",
          "iopub.execute_input": "2022-12-02T20:01:03.302387Z",
          "iopub.status.idle": "2022-12-02T20:01:18.546300Z",
          "shell.execute_reply.started": "2022-12-02T20:01:03.302351Z",
          "shell.execute_reply": "2022-12-02T20:01:18.545269Z"
        },
        "trusted": true
      },
      "execution_count": 100,
      "outputs": []
    },
    {
      "cell_type": "markdown",
      "source": [
        "## Sample Size\n",
        "\n",
        "Set sample size to 5000 or any other numbers"
      ],
      "metadata": {
        "id": "q4dtdx-l_C74"
      }
    },
    {
      "cell_type": "code",
      "source": [
        "random.seed(1234)\n",
        "df = df.sample(n = n_sample, replace = False)"
      ],
      "metadata": {
        "id": "dXvcr6Nf_Cht",
        "execution": {
          "iopub.status.busy": "2022-12-02T20:01:18.548393Z",
          "iopub.execute_input": "2022-12-02T20:01:18.548754Z",
          "iopub.status.idle": "2022-12-02T20:01:18.695224Z",
          "shell.execute_reply.started": "2022-12-02T20:01:18.548699Z",
          "shell.execute_reply": "2022-12-02T20:01:18.694218Z"
        },
        "trusted": true
      },
      "execution_count": 101,
      "outputs": []
    },
    {
      "cell_type": "code",
      "source": [
        "df.set_index('ids',inplace = True)\n",
        "\n",
        "# df.set_index('Id',inplace = True)"
      ],
      "metadata": {
        "id": "kCHT7E9f7n_G",
        "execution": {
          "iopub.status.busy": "2022-12-02T20:01:18.698658Z",
          "iopub.execute_input": "2022-12-02T20:01:18.699016Z",
          "iopub.status.idle": "2022-12-02T20:01:18.704155Z",
          "shell.execute_reply.started": "2022-12-02T20:01:18.698987Z",
          "shell.execute_reply": "2022-12-02T20:01:18.703011Z"
        },
        "trusted": true
      },
      "execution_count": 102,
      "outputs": []
    },
    {
      "cell_type": "markdown",
      "source": [
        "Consider only tweet with one emotion"
      ],
      "metadata": {
        "id": "-3tiVL1L8X0k"
      }
    },
    {
      "cell_type": "code",
      "source": [
        "df.target.value_counts()\n",
        "df.head()"
      ],
      "metadata": {
        "colab": {
          "base_uri": "https://localhost:8080/",
          "height": 238
        },
        "id": "4WBwQ7-P8cZZ",
        "outputId": "e5e80643-f7b8-4a90-c4c7-89f5cd14762d",
        "execution": {
          "iopub.status.busy": "2022-12-02T20:01:18.707004Z",
          "iopub.execute_input": "2022-12-02T20:01:18.707672Z",
          "iopub.status.idle": "2022-12-02T20:01:18.723530Z",
          "shell.execute_reply.started": "2022-12-02T20:01:18.707628Z",
          "shell.execute_reply": "2022-12-02T20:01:18.722677Z"
        },
        "trusted": true
      },
      "execution_count": 103,
      "outputs": [
        {
          "output_type": "execute_result",
          "data": {
            "text/plain": [
              "            target                          date      flag             user  \\\n",
              "ids                                                                           \n",
              "1964017646       4  Fri May 29 13:35:57 PDT 2009  NO_QUERY          ashakur   \n",
              "1992914899       4  Mon Jun 01 09:31:47 PDT 2009  NO_QUERY  RabbiShaiSpecht   \n",
              "1992954642       4  Mon Jun 01 09:35:38 PDT 2009  NO_QUERY       RobinRene7   \n",
              "1978627799       0  Sat May 30 23:57:09 PDT 2009  NO_QUERY      valfvergara   \n",
              "2296927988       0  Tue Jun 23 09:48:35 PDT 2009  NO_QUERY    SarahAnnGreen   \n",
              "\n",
              "                                                         Text  \n",
              "ids                                                            \n",
              "1964017646  @PcShakur I guess so. We should go make it a f...  \n",
              "1992914899                         @PsychicSophie Thank you!   \n",
              "1992954642  it's just another day here at the office...I a...  \n",
              "1978627799                     @triciasays i miss kickboxing   \n",
              "2296927988                      @AmandaFClark Thats rubbish!   "
            ],
            "text/html": [
              "\n",
              "  <div id=\"df-5988f1f5-5c8b-4a5d-9acd-51ed17b0980b\">\n",
              "    <div class=\"colab-df-container\">\n",
              "      <div>\n",
              "<style scoped>\n",
              "    .dataframe tbody tr th:only-of-type {\n",
              "        vertical-align: middle;\n",
              "    }\n",
              "\n",
              "    .dataframe tbody tr th {\n",
              "        vertical-align: top;\n",
              "    }\n",
              "\n",
              "    .dataframe thead th {\n",
              "        text-align: right;\n",
              "    }\n",
              "</style>\n",
              "<table border=\"1\" class=\"dataframe\">\n",
              "  <thead>\n",
              "    <tr style=\"text-align: right;\">\n",
              "      <th></th>\n",
              "      <th>target</th>\n",
              "      <th>date</th>\n",
              "      <th>flag</th>\n",
              "      <th>user</th>\n",
              "      <th>Text</th>\n",
              "    </tr>\n",
              "    <tr>\n",
              "      <th>ids</th>\n",
              "      <th></th>\n",
              "      <th></th>\n",
              "      <th></th>\n",
              "      <th></th>\n",
              "      <th></th>\n",
              "    </tr>\n",
              "  </thead>\n",
              "  <tbody>\n",
              "    <tr>\n",
              "      <th>1964017646</th>\n",
              "      <td>4</td>\n",
              "      <td>Fri May 29 13:35:57 PDT 2009</td>\n",
              "      <td>NO_QUERY</td>\n",
              "      <td>ashakur</td>\n",
              "      <td>@PcShakur I guess so. We should go make it a f...</td>\n",
              "    </tr>\n",
              "    <tr>\n",
              "      <th>1992914899</th>\n",
              "      <td>4</td>\n",
              "      <td>Mon Jun 01 09:31:47 PDT 2009</td>\n",
              "      <td>NO_QUERY</td>\n",
              "      <td>RabbiShaiSpecht</td>\n",
              "      <td>@PsychicSophie Thank you!</td>\n",
              "    </tr>\n",
              "    <tr>\n",
              "      <th>1992954642</th>\n",
              "      <td>4</td>\n",
              "      <td>Mon Jun 01 09:35:38 PDT 2009</td>\n",
              "      <td>NO_QUERY</td>\n",
              "      <td>RobinRene7</td>\n",
              "      <td>it's just another day here at the office...I a...</td>\n",
              "    </tr>\n",
              "    <tr>\n",
              "      <th>1978627799</th>\n",
              "      <td>0</td>\n",
              "      <td>Sat May 30 23:57:09 PDT 2009</td>\n",
              "      <td>NO_QUERY</td>\n",
              "      <td>valfvergara</td>\n",
              "      <td>@triciasays i miss kickboxing</td>\n",
              "    </tr>\n",
              "    <tr>\n",
              "      <th>2296927988</th>\n",
              "      <td>0</td>\n",
              "      <td>Tue Jun 23 09:48:35 PDT 2009</td>\n",
              "      <td>NO_QUERY</td>\n",
              "      <td>SarahAnnGreen</td>\n",
              "      <td>@AmandaFClark Thats rubbish!</td>\n",
              "    </tr>\n",
              "  </tbody>\n",
              "</table>\n",
              "</div>\n",
              "      <button class=\"colab-df-convert\" onclick=\"convertToInteractive('df-5988f1f5-5c8b-4a5d-9acd-51ed17b0980b')\"\n",
              "              title=\"Convert this dataframe to an interactive table.\"\n",
              "              style=\"display:none;\">\n",
              "        \n",
              "  <svg xmlns=\"http://www.w3.org/2000/svg\" height=\"24px\"viewBox=\"0 0 24 24\"\n",
              "       width=\"24px\">\n",
              "    <path d=\"M0 0h24v24H0V0z\" fill=\"none\"/>\n",
              "    <path d=\"M18.56 5.44l.94 2.06.94-2.06 2.06-.94-2.06-.94-.94-2.06-.94 2.06-2.06.94zm-11 1L8.5 8.5l.94-2.06 2.06-.94-2.06-.94L8.5 2.5l-.94 2.06-2.06.94zm10 10l.94 2.06.94-2.06 2.06-.94-2.06-.94-.94-2.06-.94 2.06-2.06.94z\"/><path d=\"M17.41 7.96l-1.37-1.37c-.4-.4-.92-.59-1.43-.59-.52 0-1.04.2-1.43.59L10.3 9.45l-7.72 7.72c-.78.78-.78 2.05 0 2.83L4 21.41c.39.39.9.59 1.41.59.51 0 1.02-.2 1.41-.59l7.78-7.78 2.81-2.81c.8-.78.8-2.07 0-2.86zM5.41 20L4 18.59l7.72-7.72 1.47 1.35L5.41 20z\"/>\n",
              "  </svg>\n",
              "      </button>\n",
              "      \n",
              "  <style>\n",
              "    .colab-df-container {\n",
              "      display:flex;\n",
              "      flex-wrap:wrap;\n",
              "      gap: 12px;\n",
              "    }\n",
              "\n",
              "    .colab-df-convert {\n",
              "      background-color: #E8F0FE;\n",
              "      border: none;\n",
              "      border-radius: 50%;\n",
              "      cursor: pointer;\n",
              "      display: none;\n",
              "      fill: #1967D2;\n",
              "      height: 32px;\n",
              "      padding: 0 0 0 0;\n",
              "      width: 32px;\n",
              "    }\n",
              "\n",
              "    .colab-df-convert:hover {\n",
              "      background-color: #E2EBFA;\n",
              "      box-shadow: 0px 1px 2px rgba(60, 64, 67, 0.3), 0px 1px 3px 1px rgba(60, 64, 67, 0.15);\n",
              "      fill: #174EA6;\n",
              "    }\n",
              "\n",
              "    [theme=dark] .colab-df-convert {\n",
              "      background-color: #3B4455;\n",
              "      fill: #D2E3FC;\n",
              "    }\n",
              "\n",
              "    [theme=dark] .colab-df-convert:hover {\n",
              "      background-color: #434B5C;\n",
              "      box-shadow: 0px 1px 3px 1px rgba(0, 0, 0, 0.15);\n",
              "      filter: drop-shadow(0px 1px 2px rgba(0, 0, 0, 0.3));\n",
              "      fill: #FFFFFF;\n",
              "    }\n",
              "  </style>\n",
              "\n",
              "      <script>\n",
              "        const buttonEl =\n",
              "          document.querySelector('#df-5988f1f5-5c8b-4a5d-9acd-51ed17b0980b button.colab-df-convert');\n",
              "        buttonEl.style.display =\n",
              "          google.colab.kernel.accessAllowed ? 'block' : 'none';\n",
              "\n",
              "        async function convertToInteractive(key) {\n",
              "          const element = document.querySelector('#df-5988f1f5-5c8b-4a5d-9acd-51ed17b0980b');\n",
              "          const dataTable =\n",
              "            await google.colab.kernel.invokeFunction('convertToInteractive',\n",
              "                                                     [key], {});\n",
              "          if (!dataTable) return;\n",
              "\n",
              "          const docLinkHtml = 'Like what you see? Visit the ' +\n",
              "            '<a target=\"_blank\" href=https://colab.research.google.com/notebooks/data_table.ipynb>data table notebook</a>'\n",
              "            + ' to learn more about interactive tables.';\n",
              "          element.innerHTML = '';\n",
              "          dataTable['output_type'] = 'display_data';\n",
              "          await google.colab.output.renderOutput(dataTable, element);\n",
              "          const docLink = document.createElement('div');\n",
              "          docLink.innerHTML = docLinkHtml;\n",
              "          element.appendChild(docLink);\n",
              "        }\n",
              "      </script>\n",
              "    </div>\n",
              "  </div>\n",
              "  "
            ]
          },
          "metadata": {},
          "execution_count": 103
        }
      ]
    },
    {
      "cell_type": "code",
      "source": [
        "# df = df[(df.Category!=\"nocode\")]\n",
        "# df = df[~(df.Category.str.contains(\"\\|\"))]\n",
        "# df.Category.value_counts()"
      ],
      "metadata": {
        "id": "DA4WN9VN7uoS",
        "execution": {
          "iopub.status.busy": "2022-12-02T20:01:18.724730Z",
          "iopub.execute_input": "2022-12-02T20:01:18.725144Z",
          "iopub.status.idle": "2022-12-02T20:01:18.730405Z",
          "shell.execute_reply.started": "2022-12-02T20:01:18.725108Z",
          "shell.execute_reply": "2022-12-02T20:01:18.729390Z"
        },
        "trusted": true
      },
      "execution_count": 104,
      "outputs": []
    },
    {
      "cell_type": "markdown",
      "source": [
        "Give emotion a label where 0 is sad, 4 is happy"
      ],
      "metadata": {
        "id": "WqBQpbsI9TMc"
      }
    },
    {
      "cell_type": "code",
      "source": [
        "possible_label = df.target.unique()\n",
        "dict_label = {}\n",
        "for index,possible_label in enumerate(possible_label):\n",
        "    dict_label[possible_label] = index\n",
        "dict_label"
      ],
      "metadata": {
        "colab": {
          "base_uri": "https://localhost:8080/"
        },
        "id": "-pK17GLt9JN6",
        "outputId": "a23c5be8-075c-4d17-e307-6c405f72d080",
        "execution": {
          "iopub.status.busy": "2022-12-02T20:01:18.731629Z",
          "iopub.execute_input": "2022-12-02T20:01:18.732142Z",
          "iopub.status.idle": "2022-12-02T20:01:18.742234Z",
          "shell.execute_reply.started": "2022-12-02T20:01:18.732109Z",
          "shell.execute_reply": "2022-12-02T20:01:18.741137Z"
        },
        "trusted": true
      },
      "execution_count": 105,
      "outputs": [
        {
          "output_type": "execute_result",
          "data": {
            "text/plain": [
              "{4: 0, 0: 1}"
            ]
          },
          "metadata": {},
          "execution_count": 105
        }
      ]
    },
    {
      "cell_type": "markdown",
      "source": [
        "New column of label to represent emotion"
      ],
      "metadata": {
        "id": "Mk25zdrh9WG8"
      }
    },
    {
      "cell_type": "code",
      "source": [
        "# df[\"Label\"] = df[\"Category\"].replace(dict_label)\n",
        "# df.head()\n",
        "\n",
        "df[\"Label\"] = df[\"target\"].replace(dict_label)"
      ],
      "metadata": {
        "id": "Erpw6WXw9Svl",
        "execution": {
          "iopub.status.busy": "2022-12-02T20:01:18.743840Z",
          "iopub.execute_input": "2022-12-02T20:01:18.744321Z",
          "iopub.status.idle": "2022-12-02T20:01:18.752241Z",
          "shell.execute_reply.started": "2022-12-02T20:01:18.744287Z",
          "shell.execute_reply": "2022-12-02T20:01:18.751291Z"
        },
        "trusted": true
      },
      "execution_count": 106,
      "outputs": []
    },
    {
      "cell_type": "markdown",
      "source": [
        "Drop columns that are not useful\n"
      ],
      "metadata": {
        "id": "xLu-9btKAeZs"
      }
    },
    {
      "cell_type": "code",
      "source": [
        "df=df.drop(columns=[\"target\", \"date\", \"flag\", \"user\"], axis = 1)\n",
        "df.head()\n"
      ],
      "metadata": {
        "colab": {
          "base_uri": "https://localhost:8080/",
          "height": 238
        },
        "id": "1UtVSkK3APQd",
        "outputId": "f9323130-6a24-4cbc-fdaf-b5f8ba4fa778",
        "execution": {
          "iopub.status.busy": "2022-12-02T20:01:18.753676Z",
          "iopub.execute_input": "2022-12-02T20:01:18.754064Z",
          "iopub.status.idle": "2022-12-02T20:01:18.768399Z",
          "shell.execute_reply.started": "2022-12-02T20:01:18.754013Z",
          "shell.execute_reply": "2022-12-02T20:01:18.767429Z"
        },
        "trusted": true
      },
      "execution_count": 107,
      "outputs": [
        {
          "output_type": "execute_result",
          "data": {
            "text/plain": [
              "                                                         Text  Label\n",
              "ids                                                                 \n",
              "1964017646  @PcShakur I guess so. We should go make it a f...      0\n",
              "1992914899                         @PsychicSophie Thank you!       0\n",
              "1992954642  it's just another day here at the office...I a...      0\n",
              "1978627799                     @triciasays i miss kickboxing       1\n",
              "2296927988                      @AmandaFClark Thats rubbish!       1"
            ],
            "text/html": [
              "\n",
              "  <div id=\"df-f02d8989-9aa4-4698-9304-b9aed4cb1fab\">\n",
              "    <div class=\"colab-df-container\">\n",
              "      <div>\n",
              "<style scoped>\n",
              "    .dataframe tbody tr th:only-of-type {\n",
              "        vertical-align: middle;\n",
              "    }\n",
              "\n",
              "    .dataframe tbody tr th {\n",
              "        vertical-align: top;\n",
              "    }\n",
              "\n",
              "    .dataframe thead th {\n",
              "        text-align: right;\n",
              "    }\n",
              "</style>\n",
              "<table border=\"1\" class=\"dataframe\">\n",
              "  <thead>\n",
              "    <tr style=\"text-align: right;\">\n",
              "      <th></th>\n",
              "      <th>Text</th>\n",
              "      <th>Label</th>\n",
              "    </tr>\n",
              "    <tr>\n",
              "      <th>ids</th>\n",
              "      <th></th>\n",
              "      <th></th>\n",
              "    </tr>\n",
              "  </thead>\n",
              "  <tbody>\n",
              "    <tr>\n",
              "      <th>1964017646</th>\n",
              "      <td>@PcShakur I guess so. We should go make it a f...</td>\n",
              "      <td>0</td>\n",
              "    </tr>\n",
              "    <tr>\n",
              "      <th>1992914899</th>\n",
              "      <td>@PsychicSophie Thank you!</td>\n",
              "      <td>0</td>\n",
              "    </tr>\n",
              "    <tr>\n",
              "      <th>1992954642</th>\n",
              "      <td>it's just another day here at the office...I a...</td>\n",
              "      <td>0</td>\n",
              "    </tr>\n",
              "    <tr>\n",
              "      <th>1978627799</th>\n",
              "      <td>@triciasays i miss kickboxing</td>\n",
              "      <td>1</td>\n",
              "    </tr>\n",
              "    <tr>\n",
              "      <th>2296927988</th>\n",
              "      <td>@AmandaFClark Thats rubbish!</td>\n",
              "      <td>1</td>\n",
              "    </tr>\n",
              "  </tbody>\n",
              "</table>\n",
              "</div>\n",
              "      <button class=\"colab-df-convert\" onclick=\"convertToInteractive('df-f02d8989-9aa4-4698-9304-b9aed4cb1fab')\"\n",
              "              title=\"Convert this dataframe to an interactive table.\"\n",
              "              style=\"display:none;\">\n",
              "        \n",
              "  <svg xmlns=\"http://www.w3.org/2000/svg\" height=\"24px\"viewBox=\"0 0 24 24\"\n",
              "       width=\"24px\">\n",
              "    <path d=\"M0 0h24v24H0V0z\" fill=\"none\"/>\n",
              "    <path d=\"M18.56 5.44l.94 2.06.94-2.06 2.06-.94-2.06-.94-.94-2.06-.94 2.06-2.06.94zm-11 1L8.5 8.5l.94-2.06 2.06-.94-2.06-.94L8.5 2.5l-.94 2.06-2.06.94zm10 10l.94 2.06.94-2.06 2.06-.94-2.06-.94-.94-2.06-.94 2.06-2.06.94z\"/><path d=\"M17.41 7.96l-1.37-1.37c-.4-.4-.92-.59-1.43-.59-.52 0-1.04.2-1.43.59L10.3 9.45l-7.72 7.72c-.78.78-.78 2.05 0 2.83L4 21.41c.39.39.9.59 1.41.59.51 0 1.02-.2 1.41-.59l7.78-7.78 2.81-2.81c.8-.78.8-2.07 0-2.86zM5.41 20L4 18.59l7.72-7.72 1.47 1.35L5.41 20z\"/>\n",
              "  </svg>\n",
              "      </button>\n",
              "      \n",
              "  <style>\n",
              "    .colab-df-container {\n",
              "      display:flex;\n",
              "      flex-wrap:wrap;\n",
              "      gap: 12px;\n",
              "    }\n",
              "\n",
              "    .colab-df-convert {\n",
              "      background-color: #E8F0FE;\n",
              "      border: none;\n",
              "      border-radius: 50%;\n",
              "      cursor: pointer;\n",
              "      display: none;\n",
              "      fill: #1967D2;\n",
              "      height: 32px;\n",
              "      padding: 0 0 0 0;\n",
              "      width: 32px;\n",
              "    }\n",
              "\n",
              "    .colab-df-convert:hover {\n",
              "      background-color: #E2EBFA;\n",
              "      box-shadow: 0px 1px 2px rgba(60, 64, 67, 0.3), 0px 1px 3px 1px rgba(60, 64, 67, 0.15);\n",
              "      fill: #174EA6;\n",
              "    }\n",
              "\n",
              "    [theme=dark] .colab-df-convert {\n",
              "      background-color: #3B4455;\n",
              "      fill: #D2E3FC;\n",
              "    }\n",
              "\n",
              "    [theme=dark] .colab-df-convert:hover {\n",
              "      background-color: #434B5C;\n",
              "      box-shadow: 0px 1px 3px 1px rgba(0, 0, 0, 0.15);\n",
              "      filter: drop-shadow(0px 1px 2px rgba(0, 0, 0, 0.3));\n",
              "      fill: #FFFFFF;\n",
              "    }\n",
              "  </style>\n",
              "\n",
              "      <script>\n",
              "        const buttonEl =\n",
              "          document.querySelector('#df-f02d8989-9aa4-4698-9304-b9aed4cb1fab button.colab-df-convert');\n",
              "        buttonEl.style.display =\n",
              "          google.colab.kernel.accessAllowed ? 'block' : 'none';\n",
              "\n",
              "        async function convertToInteractive(key) {\n",
              "          const element = document.querySelector('#df-f02d8989-9aa4-4698-9304-b9aed4cb1fab');\n",
              "          const dataTable =\n",
              "            await google.colab.kernel.invokeFunction('convertToInteractive',\n",
              "                                                     [key], {});\n",
              "          if (!dataTable) return;\n",
              "\n",
              "          const docLinkHtml = 'Like what you see? Visit the ' +\n",
              "            '<a target=\"_blank\" href=https://colab.research.google.com/notebooks/data_table.ipynb>data table notebook</a>'\n",
              "            + ' to learn more about interactive tables.';\n",
              "          element.innerHTML = '';\n",
              "          dataTable['output_type'] = 'display_data';\n",
              "          await google.colab.output.renderOutput(dataTable, element);\n",
              "          const docLink = document.createElement('div');\n",
              "          docLink.innerHTML = docLinkHtml;\n",
              "          element.appendChild(docLink);\n",
              "        }\n",
              "      </script>\n",
              "    </div>\n",
              "  </div>\n",
              "  "
            ]
          },
          "metadata": {},
          "execution_count": 107
        }
      ]
    },
    {
      "cell_type": "markdown",
      "source": [
        "##Train Test Split"
      ],
      "metadata": {
        "id": "MLIxEwLf9j7l"
      }
    },
    {
      "cell_type": "code",
      "source": [
        "from sklearn.model_selection import train_test_split\n",
        "X_train,X_test,y_train,y_test = train_test_split(df.index.values,\n",
        "                                                df.Label.values,\n",
        "                                                test_size = 0.2,\n",
        "                                                random_state=1234,\n",
        "                                                stratify = df.Label.values)"
      ],
      "metadata": {
        "id": "OcrTiI4x9ZaF",
        "execution": {
          "iopub.status.busy": "2022-12-02T20:01:18.770530Z",
          "iopub.execute_input": "2022-12-02T20:01:18.771259Z",
          "iopub.status.idle": "2022-12-02T20:01:18.793410Z",
          "shell.execute_reply.started": "2022-12-02T20:01:18.771224Z",
          "shell.execute_reply": "2022-12-02T20:01:18.792766Z"
        },
        "trusted": true
      },
      "execution_count": 108,
      "outputs": []
    },
    {
      "cell_type": "markdown",
      "source": [
        "Give new column name to dataset"
      ],
      "metadata": {
        "id": "BrssoihX9wW5"
      }
    },
    {
      "cell_type": "code",
      "source": [
        "df.loc[X_train,'data_type'] = 'train'\n",
        "df.loc[X_test,'data_type'] = 'test'"
      ],
      "metadata": {
        "id": "1WsM1_uV9o2j",
        "execution": {
          "iopub.status.busy": "2022-12-02T20:01:18.797960Z",
          "iopub.execute_input": "2022-12-02T20:01:18.798950Z",
          "iopub.status.idle": "2022-12-02T20:01:18.869247Z",
          "shell.execute_reply.started": "2022-12-02T20:01:18.798912Z",
          "shell.execute_reply": "2022-12-02T20:01:18.868067Z"
        },
        "trusted": true
      },
      "execution_count": 109,
      "outputs": []
    },
    {
      "cell_type": "markdown",
      "source": [
        "Modeling"
      ],
      "metadata": {
        "id": "Biw4yJvC92NK"
      }
    },
    {
      "cell_type": "code",
      "source": [
        "!pip install transformers\n",
        "from transformers import BertTokenizer\n",
        "from torch.utils.data import TensorDataset"
      ],
      "metadata": {
        "colab": {
          "base_uri": "https://localhost:8080/"
        },
        "id": "YiMR8niQ927N",
        "outputId": "2e670129-098d-4362-bf5c-932b6649c6c0",
        "execution": {
          "iopub.status.busy": "2022-12-02T20:01:18.870818Z",
          "iopub.execute_input": "2022-12-02T20:01:18.871458Z",
          "iopub.status.idle": "2022-12-02T20:01:28.168150Z",
          "shell.execute_reply.started": "2022-12-02T20:01:18.871401Z",
          "shell.execute_reply": "2022-12-02T20:01:28.166860Z"
        },
        "trusted": true
      },
      "execution_count": 110,
      "outputs": [
        {
          "output_type": "stream",
          "name": "stdout",
          "text": [
            "Looking in indexes: https://pypi.org/simple, https://us-python.pkg.dev/colab-wheels/public/simple/\n",
            "Requirement already satisfied: transformers in /usr/local/lib/python3.8/dist-packages (4.25.1)\n",
            "Requirement already satisfied: requests in /usr/local/lib/python3.8/dist-packages (from transformers) (2.23.0)\n",
            "Requirement already satisfied: regex!=2019.12.17 in /usr/local/lib/python3.8/dist-packages (from transformers) (2022.6.2)\n",
            "Requirement already satisfied: tokenizers!=0.11.3,<0.14,>=0.11.1 in /usr/local/lib/python3.8/dist-packages (from transformers) (0.13.2)\n",
            "Requirement already satisfied: packaging>=20.0 in /usr/local/lib/python3.8/dist-packages (from transformers) (21.3)\n",
            "Requirement already satisfied: filelock in /usr/local/lib/python3.8/dist-packages (from transformers) (3.8.0)\n",
            "Requirement already satisfied: numpy>=1.17 in /usr/local/lib/python3.8/dist-packages (from transformers) (1.21.6)\n",
            "Requirement already satisfied: pyyaml>=5.1 in /usr/local/lib/python3.8/dist-packages (from transformers) (6.0)\n",
            "Requirement already satisfied: tqdm>=4.27 in /usr/local/lib/python3.8/dist-packages (from transformers) (4.64.1)\n",
            "Requirement already satisfied: huggingface-hub<1.0,>=0.10.0 in /usr/local/lib/python3.8/dist-packages (from transformers) (0.11.1)\n",
            "Requirement already satisfied: typing-extensions>=3.7.4.3 in /usr/local/lib/python3.8/dist-packages (from huggingface-hub<1.0,>=0.10.0->transformers) (4.1.1)\n",
            "Requirement already satisfied: pyparsing!=3.0.5,>=2.0.2 in /usr/local/lib/python3.8/dist-packages (from packaging>=20.0->transformers) (3.0.9)\n",
            "Requirement already satisfied: idna<3,>=2.5 in /usr/local/lib/python3.8/dist-packages (from requests->transformers) (2.10)\n",
            "Requirement already satisfied: certifi>=2017.4.17 in /usr/local/lib/python3.8/dist-packages (from requests->transformers) (2022.9.24)\n",
            "Requirement already satisfied: chardet<4,>=3.0.2 in /usr/local/lib/python3.8/dist-packages (from requests->transformers) (3.0.4)\n",
            "Requirement already satisfied: urllib3!=1.25.0,!=1.25.1,<1.26,>=1.21.1 in /usr/local/lib/python3.8/dist-packages (from requests->transformers) (1.24.3)\n"
          ]
        }
      ]
    },
    {
      "cell_type": "markdown",
      "source": [
        "BERT tokenizer\n",
        "- Edit this for other tokenzier options\n",
        "https://huggingface.co/docs/transformers/main_classes/tokenizer#:~:text=%E2%80%9CFast%E2%80%9D%20implementation"
      ],
      "metadata": {
        "id": "3QakyQw4-cWo"
      }
    },
    {
      "cell_type": "code",
      "source": [
        "tokenizer = BertTokenizer.from_pretrained('bert-base-uncased',\n",
        "                                         do_lower_case = True)\n",
        "tokenizer"
      ],
      "metadata": {
        "colab": {
          "base_uri": "https://localhost:8080/"
        },
        "id": "7lbIueuL98qF",
        "outputId": "6f318242-4d9e-4337-deda-89b71b85f143",
        "execution": {
          "iopub.status.busy": "2022-12-02T20:01:28.170981Z",
          "iopub.execute_input": "2022-12-02T20:01:28.171667Z",
          "iopub.status.idle": "2022-12-02T20:01:30.508822Z",
          "shell.execute_reply.started": "2022-12-02T20:01:28.171624Z",
          "shell.execute_reply": "2022-12-02T20:01:30.507697Z"
        },
        "trusted": true
      },
      "execution_count": 111,
      "outputs": [
        {
          "output_type": "execute_result",
          "data": {
            "text/plain": [
              "PreTrainedTokenizer(name_or_path='bert-base-uncased', vocab_size=30522, model_max_len=512, is_fast=False, padding_side='right', truncation_side='right', special_tokens={'unk_token': '[UNK]', 'sep_token': '[SEP]', 'pad_token': '[PAD]', 'cls_token': '[CLS]', 'mask_token': '[MASK]'})"
            ]
          },
          "metadata": {},
          "execution_count": 111
        }
      ]
    },
    {
      "cell_type": "markdown",
      "source": [
        "https://huggingface.co/docs/transformers/v4.24.0/en/internal/tokenization_utils#transformers.PreTrainedTokenizerBase.batch_encode_plus"
      ],
      "metadata": {
        "id": "HWJAVllaDIhu"
      }
    },
    {
      "cell_type": "code",
      "source": [
        "%%time\n",
        "encoder_train = tokenizer.batch_encode_plus(df[df[\"data_type\"]=='train'].Text.values,\n",
        "                                           add_special_tokens = True,\n",
        "                                           pad_to_max_length = True,\n",
        "                                           max_length = 256,\n",
        "                                           return_tensors = 'pt')\n",
        "\n",
        "\n",
        "\n",
        "encoder_test = tokenizer.batch_encode_plus(df[df[\"data_type\"]=='test'].Text.values,\n",
        "                                           add_special_tokens = True,\n",
        "                                           pad_to_max_length = True,\n",
        "                                           max_length = 256,\n",
        "                                           return_tensors = 'pt')\n",
        "\n",
        "input_ids_train = encoder_train['input_ids']\n",
        "#List of indices specifying which tokens should be attended to by the model \n",
        "attention_masks_train = encoder_train[\"attention_mask\"]\n",
        "labels_train = torch.tensor(df[df['data_type']=='train'].Label.values)\n",
        "# df[df['data_type']=='train'].Label.value_counts()\n",
        "\n",
        "input_ids_test = encoder_test['input_ids']\n",
        "attention_masks_test = encoder_test[\"attention_mask\"]\n",
        "labels_test = torch.tensor(df[df['data_type']=='test'].Label.values)"
      ],
      "metadata": {
        "colab": {
          "base_uri": "https://localhost:8080/"
        },
        "id": "b07c_oTL-cBF",
        "outputId": "b4d93fa0-5d92-4e7d-cc34-06da05a00e3c",
        "execution": {
          "iopub.status.busy": "2022-12-02T20:01:30.510406Z",
          "iopub.execute_input": "2022-12-02T20:01:30.510800Z",
          "iopub.status.idle": "2022-12-02T20:01:57.424536Z",
          "shell.execute_reply.started": "2022-12-02T20:01:30.510763Z",
          "shell.execute_reply": "2022-12-02T20:01:57.423371Z"
        },
        "trusted": true
      },
      "execution_count": 112,
      "outputs": [
        {
          "output_type": "stream",
          "name": "stderr",
          "text": [
            "Truncation was not explicitly activated but `max_length` is provided a specific value, please use `truncation=True` to explicitly truncate examples to max length. Defaulting to 'longest_first' truncation strategy. If you encode pairs of sequences (GLUE-style) with the tokenizer you can select this strategy more precisely by providing a specific strategy to `truncation`.\n",
            "/usr/local/lib/python3.8/dist-packages/transformers/tokenization_utils_base.py:2336: FutureWarning: The `pad_to_max_length` argument is deprecated and will be removed in a future version, use `padding=True` or `padding='longest'` to pad to the longest sequence in the batch, or use `padding='max_length'` to pad to a max length. In this case, you can give a specific length with `max_length` (e.g. `max_length=45`) or leave max_length to None to pad to the maximal input size of the model (e.g. 512 for Bert).\n",
            "  warnings.warn(\n"
          ]
        },
        {
          "output_type": "stream",
          "name": "stdout",
          "text": [
            "CPU times: user 2.49 s, sys: 44.8 ms, total: 2.54 s\n",
            "Wall time: 2.53 s\n"
          ]
        }
      ]
    },
    {
      "cell_type": "code",
      "source": [
        "data_train = TensorDataset(input_ids_train,attention_masks_train,labels_train)\n",
        "data_test = TensorDataset(input_ids_test,attention_masks_test,labels_test)"
      ],
      "metadata": {
        "id": "DicIx6f3E3se",
        "execution": {
          "iopub.status.busy": "2022-12-02T20:01:57.426206Z",
          "iopub.execute_input": "2022-12-02T20:01:57.426897Z",
          "iopub.status.idle": "2022-12-02T20:01:57.433492Z",
          "shell.execute_reply.started": "2022-12-02T20:01:57.426855Z",
          "shell.execute_reply": "2022-12-02T20:01:57.432346Z"
        },
        "trusted": true
      },
      "execution_count": 113,
      "outputs": []
    },
    {
      "cell_type": "markdown",
      "source": [
        "Functions for model performance"
      ],
      "metadata": {
        "id": "lPgdNaqLGinb"
      }
    },
    {
      "cell_type": "code",
      "source": [
        "from sklearn.metrics import f1_score, accuracy_score\n",
        "\n",
        "def f1_score_func(preds,labels):\n",
        "    preds_flat = np.argmax(preds,axis=1).flatten()\n",
        "    labels_flat = labels.flatten()\n",
        "    return f1_score(labels_flat,preds_flat,average = 'weighted')\n",
        "\n",
        "\n",
        "###############################################\n",
        "\n",
        "def accuracy_per_class(preds,labels):\n",
        "    label_dict_reverse = {v:k for k,v in dict_label.items()}\n",
        "    \n",
        "    preds_flat = np.argmax(preds,axis=1).flatten()\n",
        "    labels_flat = labels.flatten()\n",
        "    \n",
        "    for label in np.unique(labels_flat):\n",
        "        y_preds = preds_flat[labels_flat==label]\n",
        "        y_true = labels_flat[labels_flat==label]\n",
        "        print(f\"Class:{label_dict_reverse}\")\n",
        "        print(f\"Accuracy:{len(y_preds[y_preds==label])}/{len(y_true)}\\n\")\n",
        "###############################################\n",
        "\n",
        "def acc_score_func(preds,labels):\n",
        "    preds_flat = np.argmax(preds,axis=1).flatten()\n",
        "    labels_flat = labels.flatten()\n",
        "    return accuracy_score(labels_flat,preds_flat)"
      ],
      "metadata": {
        "id": "52kLyfnEGVdL",
        "execution": {
          "iopub.status.busy": "2022-12-02T20:01:57.435263Z",
          "iopub.execute_input": "2022-12-02T20:01:57.435621Z",
          "iopub.status.idle": "2022-12-02T20:01:57.446070Z",
          "shell.execute_reply.started": "2022-12-02T20:01:57.435585Z",
          "shell.execute_reply": "2022-12-02T20:01:57.444820Z"
        },
        "trusted": true
      },
      "execution_count": 114,
      "outputs": []
    },
    {
      "cell_type": "code",
      "source": [
        "seed_val = 1234\n",
        "random.seed(seed_val)\n",
        "np.random.seed(seed_val)\n",
        "torch.manual_seed(seed_val)\n",
        "torch.cuda.manual_seed_all(seed_val)"
      ],
      "metadata": {
        "id": "OIJBwNu6GuhZ",
        "execution": {
          "iopub.status.busy": "2022-12-02T20:01:57.447659Z",
          "iopub.execute_input": "2022-12-02T20:01:57.448039Z",
          "iopub.status.idle": "2022-12-02T20:01:57.458932Z",
          "shell.execute_reply.started": "2022-12-02T20:01:57.447997Z",
          "shell.execute_reply": "2022-12-02T20:01:57.457860Z"
        },
        "trusted": true
      },
      "execution_count": 115,
      "outputs": []
    },
    {
      "cell_type": "markdown",
      "source": [
        "#Model"
      ],
      "metadata": {
        "id": "jIEMnRKvKjGY"
      }
    },
    {
      "cell_type": "markdown",
      "source": [
        "## Batch size\n",
        "\n",
        "\n",
        "Load data from encoded data\n",
        "\n",
        "- tuning batch size, higher requires gpu, but faster\n",
        "  - 16, 32 originally\n",
        "  - 1000,1000 out of memory"
      ],
      "metadata": {
        "id": "h8Fx_LDVFn_l"
      }
    },
    {
      "cell_type": "code",
      "source": [
        "from torch.utils.data import RandomSampler,SequentialSampler,DataLoader\n",
        "\n",
        "dataloader_train = DataLoader(\n",
        "    data_train,\n",
        "    sampler= RandomSampler(data_train),\n",
        "    batch_size = 16\n",
        "    \n",
        ")\n",
        "\n",
        "\n",
        "dataloader_test = DataLoader(\n",
        "    data_test,\n",
        "    sampler= RandomSampler(data_test),\n",
        "    batch_size = 32\n",
        "    \n",
        ")"
      ],
      "metadata": {
        "id": "XN4yPYyHFoFY",
        "execution": {
          "iopub.status.busy": "2022-12-02T20:01:57.460459Z",
          "iopub.execute_input": "2022-12-02T20:01:57.461007Z",
          "iopub.status.idle": "2022-12-02T20:01:57.469077Z",
          "shell.execute_reply.started": "2022-12-02T20:01:57.460968Z",
          "shell.execute_reply": "2022-12-02T20:01:57.468212Z"
        },
        "trusted": true
      },
      "execution_count": 116,
      "outputs": []
    },
    {
      "cell_type": "code",
      "source": [
        "\n",
        "from transformers import BertForSequenceClassification\n",
        "model = BertForSequenceClassification.from_pretrained('bert-base-uncased',\n",
        "                                     num_labels = len(dict_label),\n",
        "                                     output_attentions = False,\n",
        "                                     output_hidden_states =  False)"
      ],
      "metadata": {
        "colab": {
          "base_uri": "https://localhost:8080/"
        },
        "id": "sEYKD5jQE9gB",
        "outputId": "4d95301a-4a68-4d0f-e766-e3a07f18ef86",
        "execution": {
          "iopub.status.busy": "2022-12-02T20:01:57.472485Z",
          "iopub.execute_input": "2022-12-02T20:01:57.473174Z",
          "iopub.status.idle": "2022-12-02T20:01:59.805176Z",
          "shell.execute_reply.started": "2022-12-02T20:01:57.473147Z",
          "shell.execute_reply": "2022-12-02T20:01:59.804274Z"
        },
        "trusted": true
      },
      "execution_count": 117,
      "outputs": [
        {
          "output_type": "stream",
          "name": "stderr",
          "text": [
            "Some weights of the model checkpoint at bert-base-uncased were not used when initializing BertForSequenceClassification: ['cls.predictions.transform.dense.bias', 'cls.seq_relationship.weight', 'cls.predictions.decoder.weight', 'cls.predictions.transform.LayerNorm.weight', 'cls.predictions.bias', 'cls.predictions.transform.LayerNorm.bias', 'cls.predictions.transform.dense.weight', 'cls.seq_relationship.bias']\n",
            "- This IS expected if you are initializing BertForSequenceClassification from the checkpoint of a model trained on another task or with another architecture (e.g. initializing a BertForSequenceClassification model from a BertForPreTraining model).\n",
            "- This IS NOT expected if you are initializing BertForSequenceClassification from the checkpoint of a model that you expect to be exactly identical (initializing a BertForSequenceClassification model from a BertForSequenceClassification model).\n",
            "Some weights of BertForSequenceClassification were not initialized from the model checkpoint at bert-base-uncased and are newly initialized: ['classifier.weight', 'classifier.bias']\n",
            "You should probably TRAIN this model on a down-stream task to be able to use it for predictions and inference.\n"
          ]
        }
      ]
    },
    {
      "cell_type": "markdown",
      "source": [
        "## Epoch and Optimizer"
      ],
      "metadata": {
        "id": "id21n4_SMavM"
      }
    },
    {
      "cell_type": "code",
      "source": [
        "from transformers import AdamW,get_linear_schedule_with_warmup\n",
        "optimizer = AdamW(model.parameters(),lr = lr_rate,eps = eps)\n",
        "\n",
        "epochs  = n_epoch\n",
        "scheduler = get_linear_schedule_with_warmup(\n",
        "            optimizer,\n",
        "    num_warmup_steps = 0,\n",
        "   num_training_steps = len(dataloader_train)*epochs \n",
        ")"
      ],
      "metadata": {
        "colab": {
          "base_uri": "https://localhost:8080/"
        },
        "id": "BiwTWmsBFxAa",
        "outputId": "f2ce3659-e4a6-465e-9901-c7491831403e",
        "execution": {
          "iopub.status.busy": "2022-12-02T20:01:59.806621Z",
          "iopub.execute_input": "2022-12-02T20:01:59.807256Z",
          "iopub.status.idle": "2022-12-02T20:01:59.818893Z",
          "shell.execute_reply.started": "2022-12-02T20:01:59.807217Z",
          "shell.execute_reply": "2022-12-02T20:01:59.817824Z"
        },
        "trusted": true
      },
      "execution_count": 118,
      "outputs": [
        {
          "output_type": "stream",
          "name": "stderr",
          "text": [
            "/usr/local/lib/python3.8/dist-packages/transformers/optimization.py:306: FutureWarning: This implementation of AdamW is deprecated and will be removed in a future version. Use the PyTorch implementation torch.optim.AdamW instead, or set `no_deprecation_warning=True` to disable this warning\n",
            "  warnings.warn(\n"
          ]
        }
      ]
    },
    {
      "cell_type": "markdown",
      "source": [
        "Using GPU\n"
      ],
      "metadata": {
        "id": "3uEZtryeGx1e"
      }
    },
    {
      "cell_type": "code",
      "source": [
        "device = torch.device('cuda' if torch.cuda.is_available() else 'cpu')\n",
        "model.to(device)\n",
        "\n",
        "print(f\"Loading:{device}\")"
      ],
      "metadata": {
        "colab": {
          "base_uri": "https://localhost:8080/"
        },
        "id": "7VOHkzxGGyqb",
        "outputId": "f31c86c6-5980-4ff4-869e-86b3f5c8e3d4",
        "execution": {
          "iopub.status.busy": "2022-12-02T20:01:59.820868Z",
          "iopub.execute_input": "2022-12-02T20:01:59.821605Z",
          "iopub.status.idle": "2022-12-02T20:01:59.941182Z",
          "shell.execute_reply.started": "2022-12-02T20:01:59.821570Z",
          "shell.execute_reply": "2022-12-02T20:01:59.939980Z"
        },
        "trusted": true
      },
      "execution_count": 119,
      "outputs": [
        {
          "output_type": "stream",
          "name": "stdout",
          "text": [
            "Loading:cuda\n"
          ]
        }
      ]
    },
    {
      "cell_type": "markdown",
      "source": [
        "Predict Function"
      ],
      "metadata": {
        "id": "AQRGrO0TG5A9"
      }
    },
    {
      "cell_type": "code",
      "source": [
        "def evaluate(dataloader_val):\n",
        "    model.eval()\n",
        "    \n",
        "    loss_val_total = 0\n",
        "    predictions,true_vals = [],[]\n",
        "    \n",
        "    for batch in tqdm(dataloader_val):\n",
        "        batch = tuple(b.to(device) for b in batch)\n",
        "        \n",
        "        inputs = {'input_ids':  batch[0],\n",
        "                  'attention_mask':batch[1],\n",
        "                  'labels': batch[2]\n",
        "                 }\n",
        "        with torch.no_grad():\n",
        "            outputs = model(**inputs)\n",
        "            \n",
        "        loss = outputs[0]\n",
        "        logits = outputs[1]\n",
        "        loss_val_total +=loss.item()\n",
        "        \n",
        "        logits = logits.detach().cpu().numpy()\n",
        "        label_ids = inputs['labels'].cpu().numpy()\n",
        "        predictions.append(logits)\n",
        "        true_vals.append(label_ids)\n",
        "        \n",
        "        \n",
        "    loss_val_avg = loss_val_total/len(dataloader_val)  \n",
        "    \n",
        "    predictions = np.concatenate(predictions,axis=0)\n",
        "    true_vals = np.concatenate(true_vals,axis=0) \n",
        "    return loss_val_avg,predictions,true_vals"
      ],
      "metadata": {
        "id": "e1_iuJQPHCDu",
        "execution": {
          "iopub.status.busy": "2022-12-02T20:01:59.942634Z",
          "iopub.execute_input": "2022-12-02T20:01:59.943018Z",
          "iopub.status.idle": "2022-12-02T20:01:59.951281Z",
          "shell.execute_reply.started": "2022-12-02T20:01:59.942984Z",
          "shell.execute_reply": "2022-12-02T20:01:59.950073Z"
        },
        "trusted": true
      },
      "execution_count": 120,
      "outputs": []
    },
    {
      "cell_type": "markdown",
      "source": [
        "Cross entropy loss is used for loss since we have a binary classification problem\n",
        "\n",
        "https://stackoverflow.com/questions/71581197/what-is-the-loss-function-used-in-trainer-from-the-transformers-library-of-huggi"
      ],
      "metadata": {
        "id": "VrdaPOi9ywaZ"
      }
    },
    {
      "cell_type": "code",
      "source": [
        "%%time\n",
        "accuracy_lis = []\n",
        "training_loss = []\n",
        "for epoch in tqdm(range(1,epochs+1)):\n",
        "    model.train()\n",
        "    \n",
        "    loss_train_total=0\n",
        "    \n",
        "    progress_bar = tqdm(dataloader_train,desc = \"Epoch: {:1d}\".format(epoch),leave = False,disable = False)\n",
        "    \n",
        "    \n",
        "    for batch in progress_bar:\n",
        "        model.zero_grad()\n",
        "        \n",
        "        batch = tuple(b.to(device) for b in batch)\n",
        "        \n",
        "        inputs = {\n",
        "            \"input_ids\":batch[0],\n",
        "            \"attention_mask\":batch[1],\n",
        "            \"labels\":batch[2]\n",
        "            \n",
        "        }\n",
        "        outputs = model(**inputs)\n",
        "        \n",
        "        loss = outputs[0]\n",
        "#         logits = outputs[1]\n",
        "        loss_train_total +=loss.item()\n",
        "        loss.backward()\n",
        "        \n",
        "        torch.nn.utils.clip_grad_norm(model.parameters(),1.0)\n",
        "        \n",
        "        optimizer.step()\n",
        "        scheduler.step()\n",
        "        \n",
        "        \n",
        "        progress_bar.set_postfix({'training_loss':'{:.3f}'.format(loss.item()/len(batch))})\n",
        "#     torch.save(model.state_dict(),f'/output/BERT_ft_epoch{epoch}.model')To save the model after each epoch\n",
        "    \n",
        "    tqdm.write('\\nEpoch {epoch}')\n",
        "    \n",
        "    loss_train_avg = loss_train_total/len(dataloader_train)\n",
        "    tqdm.write(f'Training Loss: {loss_train_avg}\\f Train Accuracy')\n",
        "    val_loss,predictions,true_vals = evaluate(dataloader_test)\n",
        "    test_score = f1_score_func(predictions,true_vals)\n",
        "    test_acc = acc_score_func(predictions,true_vals)\n",
        "    tqdm.write(f'Val Loss:{val_loss}\\n Test F1 Score:{test_score}\\n Test Accuracy:{test_acc}')\n",
        "    accuracy_lis.append(test_acc)\n",
        "    training_loss.append(loss_train_avg)"
      ],
      "metadata": {
        "colab": {
          "base_uri": "https://localhost:8080/",
          "height": 237,
          "referenced_widgets": [
            "62e9e1670c404ff98040b8d1e4e7083e",
            "0a20fbde26fa418da1f12e686357696f",
            "b9ddedbcfc504bff95b70a4dc8d112b7",
            "3d950ffc17e94f959d580c8366bb46ca",
            "2c30db77fe284a38a2dcda7d29f9a513",
            "c17b2c2ad9784f199f75095768857fa9",
            "957ebe5e311c48d78d7b8247ba380acd",
            "24bbfc68576045fea1986ee97de6ef65",
            "29236b6575b8413ca07581025851ce1d",
            "b65b9d3ba8154d12808d77fceda122c1",
            "104c58b345644c2fb375b79e1b121800",
            "55d6096581304f09a2a6350340938c04",
            "a08bbe7f00134d9994e12037c671e6b0",
            "90908c01c91949809efc0a4501954080",
            "c5665ca1bed443f1aaf90ce640f23d15",
            "ca07e0a878fd4f82a8f2e5c9b6fa3777",
            "4ccf7473d5814dd0891d0f3362bab23c",
            "2d26e55943324053be8eb924e1b68fc0",
            "897b2f18870e4a91b0739bcfb999f1e8",
            "d5889cfe90504b9086e015306d8970ac",
            "1fc43b0f10fc40d49b9bd4042d259b65",
            "d590e02ef43b4ec4a1982821eefa4496",
            "5da0f7d61a554964b6308863b016206a",
            "bb5e9901738d453eb39f74a4c81a0acc",
            "6b4f33f5f36d4b9e87d0c8a3f9b0c5ba",
            "bdf26f64136446cc9a31639045835932",
            "f783b5b98cc94975b263c6a5df6f5330",
            "ddb3d9a52a554f32b73434fd08e581f8",
            "15a164a81e934c08914e55178d8c4feb",
            "2d967a26a291465a9538339e03a24f60",
            "162c2a55b03a4a03854da0c07b5c1d26",
            "8eea107fb03141a1a291afa5cd39efc8",
            "cbd11dd7287b472dae123fb00cf6bafd"
          ]
        },
        "id": "dP6GslYeJuCY",
        "outputId": "e5e2af96-5f03-4282-cde3-5d178a954312",
        "execution": {
          "iopub.status.busy": "2022-12-02T20:01:59.953160Z",
          "iopub.execute_input": "2022-12-02T20:01:59.953578Z"
        },
        "trusted": true
      },
      "execution_count": 121,
      "outputs": [
        {
          "output_type": "display_data",
          "data": {
            "text/plain": [
              "  0%|          | 0/1 [00:00<?, ?it/s]"
            ],
            "application/vnd.jupyter.widget-view+json": {
              "version_major": 2,
              "version_minor": 0,
              "model_id": "62e9e1670c404ff98040b8d1e4e7083e"
            }
          },
          "metadata": {}
        },
        {
          "output_type": "display_data",
          "data": {
            "text/plain": [
              "Epoch: 1:   0%|          | 0/250 [00:00<?, ?it/s]"
            ],
            "application/vnd.jupyter.widget-view+json": {
              "version_major": 2,
              "version_minor": 0,
              "model_id": "55d6096581304f09a2a6350340938c04"
            }
          },
          "metadata": {}
        },
        {
          "output_type": "stream",
          "name": "stderr",
          "text": [
            "<timed exec>:29: UserWarning: torch.nn.utils.clip_grad_norm is now deprecated in favor of torch.nn.utils.clip_grad_norm_.\n"
          ]
        },
        {
          "output_type": "stream",
          "name": "stdout",
          "text": [
            "\n",
            "Epoch {epoch}\n",
            "Training Loss: 0.5049319724440575\f Train Accuracy\n"
          ]
        },
        {
          "output_type": "display_data",
          "data": {
            "text/plain": [
              "  0%|          | 0/32 [00:00<?, ?it/s]"
            ],
            "application/vnd.jupyter.widget-view+json": {
              "version_major": 2,
              "version_minor": 0,
              "model_id": "5da0f7d61a554964b6308863b016206a"
            }
          },
          "metadata": {}
        },
        {
          "output_type": "stream",
          "name": "stdout",
          "text": [
            "Val Loss:0.44714505365118384\n",
            " Test F1 Score:0.7995203028990391\n",
            " Test Accuracy:0.8\n",
            "CPU times: user 51.6 s, sys: 192 ms, total: 51.8 s\n",
            "Wall time: 51.3 s\n"
          ]
        }
      ]
    },
    {
      "cell_type": "code",
      "source": [
        "lr_rate = [1e-6,5e-6,1e-5,5e-5,1e-4]\n",
        "accuracy_lis = [0.53,0.723,0.789,0.805,0.8]\n",
        "training_loss = [0.6956867537498475,0.605047080039978, 0.5460657900571824,0.48108070564270017,0.5049319724440575]"
      ],
      "metadata": {
        "id": "4E2w3IhHQyaM"
      },
      "execution_count": 127,
      "outputs": []
    },
    {
      "cell_type": "code",
      "source": [
        "from matplotlib import pyplot\n",
        "pyplot.plot([1e-6,5e-6,1e-5,5e-5,1e-4],accuracy_lis)\n",
        "pyplot.xlabel(\"lr_rate\")\n",
        "pyplot.ylabel(\"accuracy\")\n",
        "pyplot.savefig('bert_lr_accuracy.png')\n",
        "pyplot.show()"
      ],
      "metadata": {
        "trusted": true,
        "colab": {
          "base_uri": "https://localhost:8080/",
          "height": 280
        },
        "id": "7pDlKwAuj2ZA",
        "outputId": "65b104d1-5f5e-43f9-f546-a50e31317426"
      },
      "execution_count": 134,
      "outputs": [
        {
          "output_type": "display_data",
          "data": {
            "text/plain": [
              "<Figure size 432x288 with 1 Axes>"
            ],
            "image/png": "[encoded data removed]"
          },
          "metadata": {
            "needs_background": "light"
          }
        }
      ]
    },
    {
      "cell_type": "code",
      "source": [
        "#training_loss = [0.4200256376057863, 0.3079329135142267, 0.2325340534660965, 0.1843095047879964]"
      ],
      "metadata": {
        "id": "ohsbbRz0x2hu"
      },
      "execution_count": null,
      "outputs": []
    },
    {
      "cell_type": "markdown",
      "source": [
        "# New Section"
      ],
      "metadata": {
        "id": "YBuBw_9Jyc9l"
      }
    },
    {
      "cell_type": "code",
      "source": [
        "pyplot.plot(lr_rate,training_loss)\n",
        "pyplot.xlabel(\"lr_rate\")\n",
        "pyplot.ylabel(\"training loss\")\n",
        "pyplot.savefig('bert_lr_loss.png')\n",
        "pyplot.show()"
      ],
      "metadata": {
        "trusted": true,
        "colab": {
          "base_uri": "https://localhost:8080/",
          "height": 280
        },
        "id": "C0hbF2AOj2ZB",
        "outputId": "138dc0ef-5cff-4f9d-970d-e9c457fabc52"
      },
      "execution_count": 132,
      "outputs": [
        {
          "output_type": "display_data",
          "data": {
            "text/plain": [
              "<Figure size 432x288 with 1 Axes>"
            ],
            "image/png": "[encoded data removed]"
          },
          "metadata": {
            "needs_background": "light"
          }
        }
      ]
    },
    {
      "cell_type": "code",
      "source": [
        "val_loss,predictions,true_vals = evaluate(dataloader_test)\n",
        "\n",
        "predictions\n",
        "np.argmax(predictions,axis=1).flatten()\n",
        "labels_flat = true_vals.flatten()\n",
        "labels_flat\n"
      ],
      "metadata": {
        "colab": {
          "base_uri": "https://localhost:8080/",
          "height": 847,
          "referenced_widgets": [
            "d6dc3988930e4e0cb70cda5a8fdf0bd2",
            "cd53eaa9f87548a0a81b66926b96818e",
            "53d2eb1874bf4e449b103f5080e526c5",
            "b45b161496ad4c17bb73c9542679d8ca",
            "d2e25b5f98c34fbd82779fcb00d37ec9",
            "3a7d43fa030c485985eea8f089643492",
            "2f9e4ab9669140719bd54c2a32e6a0ee",
            "d9a5281cbdd5430fbb6bfcd93f4ca4e8",
            "ebd718da63494321b211118bd903c2eb",
            "bd8d1c35549a4d279429ccefc021dc3f",
            "98006bc814ac4165a7d1edffb7d9da48"
          ]
        },
        "id": "8PLO6R2cVXGA",
        "outputId": "7a1475d3-57fe-454c-f4e5-0af2eac40c71",
        "trusted": true
      },
      "execution_count": 126,
      "outputs": [
        {
          "output_type": "display_data",
          "data": {
            "text/plain": [
              "  0%|          | 0/32 [00:00<?, ?it/s]"
            ],
            "application/vnd.jupyter.widget-view+json": {
              "version_major": 2,
              "version_minor": 0,
              "model_id": "d6dc3988930e4e0cb70cda5a8fdf0bd2"
            }
          },
          "metadata": {}
        },
        {
          "output_type": "execute_result",
          "data": {
            "text/plain": [
              "array([1, 0, 0, 1, 1, 1, 0, 1, 1, 0, 0, 0, 0, 0, 1, 1, 0, 1, 0, 0, 1, 0,\n",
              "       1, 1, 0, 1, 1, 0, 1, 0, 0, 1, 1, 1, 0, 1, 0, 0, 1, 0, 1, 1, 1, 0,\n",
              "       1, 1, 0, 0, 1, 1, 1, 0, 1, 0, 0, 0, 1, 0, 1, 0, 0, 0, 0, 0, 1, 1,\n",
              "       0, 0, 1, 0, 0, 1, 1, 1, 1, 1, 1, 1, 1, 1, 0, 1, 1, 1, 0, 1, 0, 1,\n",
              "       0, 0, 0, 0, 0, 1, 1, 1, 1, 1, 1, 1, 0, 0, 1, 1, 1, 1, 0, 1, 0, 1,\n",
              "       1, 1, 0, 1, 1, 1, 0, 0, 1, 1, 1, 0, 1, 0, 1, 0, 0, 0, 1, 0, 0, 0,\n",
              "       0, 1, 1, 0, 0, 1, 0, 0, 1, 1, 1, 1, 0, 0, 1, 0, 1, 1, 1, 1, 1, 1,\n",
              "       0, 0, 0, 0, 1, 1, 1, 0, 1, 1, 1, 0, 1, 1, 0, 1, 0, 0, 0, 0, 1, 1,\n",
              "       1, 1, 1, 0, 0, 0, 0, 0, 0, 0, 1, 0, 0, 1, 0, 1, 1, 0, 0, 0, 1, 0,\n",
              "       0, 1, 0, 0, 0, 0, 1, 1, 1, 1, 1, 0, 1, 0, 0, 1, 1, 0, 0, 1, 1, 1,\n",
              "       1, 0, 1, 0, 0, 1, 0, 0, 1, 0, 1, 1, 0, 1, 1, 0, 1, 1, 0, 0, 1, 1,\n",
              "       0, 0, 1, 0, 0, 1, 0, 0, 1, 1, 1, 0, 1, 0, 1, 1, 1, 0, 1, 0, 1, 1,\n",
              "       0, 0, 0, 0, 0, 0, 0, 0, 0, 1, 1, 1, 1, 0, 1, 1, 0, 0, 0, 0, 1, 1,\n",
              "       1, 1, 0, 0, 1, 0, 0, 1, 0, 1, 1, 0, 1, 1, 0, 0, 1, 0, 1, 1, 1, 1,\n",
              "       1, 1, 0, 1, 1, 0, 1, 0, 1, 0, 0, 1, 0, 1, 1, 1, 0, 0, 1, 0, 0, 1,\n",
              "       1, 1, 0, 1, 0, 0, 1, 1, 0, 1, 0, 0, 0, 1, 0, 0, 0, 1, 0, 0, 0, 0,\n",
              "       0, 1, 1, 0, 1, 0, 0, 0, 0, 0, 0, 0, 0, 1, 1, 1, 0, 1, 0, 1, 1, 0,\n",
              "       0, 1, 1, 0, 0, 0, 0, 1, 1, 1, 1, 0, 0, 1, 0, 0, 0, 1, 1, 1, 0, 1,\n",
              "       1, 0, 1, 1, 1, 0, 1, 0, 1, 0, 1, 0, 1, 0, 1, 1, 0, 0, 1, 1, 0, 1,\n",
              "       0, 1, 0, 1, 0, 0, 0, 0, 1, 1, 1, 1, 0, 1, 1, 0, 1, 0, 0, 0, 1, 1,\n",
              "       0, 0, 1, 0, 1, 1, 1, 1, 1, 1, 0, 1, 1, 1, 1, 0, 1, 0, 0, 0, 0, 0,\n",
              "       0, 0, 0, 1, 0, 1, 1, 1, 1, 1, 1, 0, 1, 0, 1, 1, 1, 1, 0, 0, 1, 0,\n",
              "       0, 0, 0, 0, 1, 0, 1, 0, 0, 0, 1, 1, 0, 1, 0, 0, 0, 1, 0, 1, 0, 1,\n",
              "       1, 0, 0, 1, 0, 0, 0, 0, 1, 1, 1, 1, 1, 0, 0, 0, 1, 1, 1, 0, 1, 0,\n",
              "       1, 1, 0, 0, 1, 1, 0, 1, 1, 0, 0, 1, 0, 1, 0, 1, 0, 1, 0, 0, 1, 0,\n",
              "       1, 0, 0, 1, 0, 1, 0, 0, 1, 1, 1, 0, 1, 0, 0, 0, 1, 0, 0, 0, 0, 1,\n",
              "       1, 1, 1, 0, 0, 1, 1, 0, 0, 0, 1, 0, 0, 1, 1, 0, 0, 1, 1, 0, 0, 0,\n",
              "       0, 1, 1, 1, 1, 0, 0, 1, 0, 0, 1, 0, 1, 0, 0, 0, 1, 1, 1, 1, 1, 0,\n",
              "       0, 0, 1, 1, 0, 1, 0, 0, 0, 0, 0, 1, 1, 0, 0, 1, 0, 1, 0, 0, 0, 0,\n",
              "       0, 0, 0, 0, 0, 1, 0, 0, 0, 1, 1, 0, 0, 0, 0, 0, 1, 1, 1, 1, 1, 0,\n",
              "       1, 0, 1, 1, 0, 1, 0, 0, 1, 0, 0, 1, 0, 0, 1, 1, 1, 1, 1, 1, 0, 0,\n",
              "       1, 1, 0, 0, 0, 0, 1, 0, 0, 0, 1, 1, 1, 0, 0, 0, 1, 1, 1, 0, 1, 1,\n",
              "       0, 0, 0, 1, 0, 0, 1, 1, 0, 0, 1, 0, 1, 1, 1, 0, 0, 1, 1, 1, 1, 1,\n",
              "       1, 1, 0, 1, 0, 0, 0, 1, 0, 1, 0, 1, 1, 0, 0, 1, 0, 0, 0, 0, 1, 1,\n",
              "       1, 1, 0, 1, 1, 0, 0, 0, 1, 0, 1, 0, 1, 0, 0, 0, 0, 1, 1, 1, 1, 1,\n",
              "       0, 1, 1, 1, 0, 1, 1, 0, 1, 1, 0, 0, 0, 1, 1, 0, 0, 1, 1, 0, 0, 0,\n",
              "       1, 1, 1, 1, 1, 0, 0, 1, 0, 1, 0, 0, 0, 0, 0, 0, 1, 0, 1, 1, 1, 0,\n",
              "       1, 0, 1, 1, 0, 0, 1, 0, 1, 1, 1, 0, 1, 0, 1, 0, 1, 1, 1, 1, 1, 1,\n",
              "       1, 1, 0, 0, 1, 0, 0, 0, 1, 0, 0, 1, 0, 1, 0, 0, 1, 1, 0, 1, 1, 1,\n",
              "       1, 0, 0, 1, 1, 1, 0, 1, 0, 0, 1, 1, 0, 0, 0, 1, 0, 0, 0, 0, 1, 1,\n",
              "       0, 1, 1, 0, 1, 0, 0, 0, 0, 0, 1, 1, 1, 0, 1, 0, 1, 1, 0, 1, 0, 0,\n",
              "       0, 0, 1, 1, 1, 0, 0, 0, 0, 0, 1, 0, 1, 0, 1, 0, 1, 1, 1, 1, 1, 0,\n",
              "       1, 1, 1, 0, 0, 0, 0, 1, 0, 0, 1, 0, 1, 0, 1, 1, 1, 1, 0, 1, 0, 0,\n",
              "       1, 0, 1, 1, 1, 1, 0, 1, 0, 1, 1, 0, 1, 0, 0, 1, 0, 0, 1, 0, 1, 0,\n",
              "       0, 1, 0, 0, 0, 1, 1, 0, 1, 0, 1, 0, 1, 1, 1, 1, 0, 1, 1, 1, 0, 0,\n",
              "       1, 0, 0, 0, 1, 1, 0, 0, 1, 1])"
            ]
          },
          "metadata": {},
          "execution_count": 126
        }
      ]
    }
  ]
}